{
  "nbformat": 4,
  "nbformat_minor": 0,
  "metadata": {
    "colab": {
      "provenance": [],
      "collapsed_sections": [
        "vncDsAP0Gaoa",
        "FJNUwmbgGyua",
        "w6K7xa23Elo4",
        "yQaldy8SH6Dl",
        "PH-0ReGfmX4f",
        "mDgbUHAGgjLW",
        "HhfV-JJviCcP",
        "Y3lxredqlCYt",
        "3RnN4peoiCZX",
        "x71ZqKXriCWQ",
        "7hBIi_osiCS2",
        "JlHwYmJAmNHm",
        "H0kj-8xxnORC",
        "nA9Y7ga8ng1Z",
        "PBTbrJXOngz2",
        "u3PMJOP6ngxN",
        "MSa1f5Uengrz",
        "0wOQAZs5pc--",
        "K5QZ13OEpz2H",
        "lQ7QKXXCp7Bj",
        "448CDAPjqfQr",
        "XU_pKA2zZzy4",
        "-3iuitrW8aTG",
        "fge-S5ZAYoAp",
        "85gYPyotYoAp",
        "RoGjAbkUYoAp",
        "4Of9eVA-YrdM",
        "iky9q4vBYrdO",
        "F6T5p64dYrdO",
        "y-Ehk30pYrdP",
        "bamQiAODYuh1",
        "QHF8YVU7Yuh3",
        "GwzvFGzlYuh3",
        "E25UnU4qu5Zn",
        "bbFf2-_FphqN",
        "_ouA3fa0phqN",
        "Seke61FWphqN",
        "zVMT8nm8vXX9",
        "t27r6nlMphqO",
        "r2jJGEOYphqO",
        "b0JNsNcRphqO",
        "jNsq-u4Rvrno",
        "jj7wYXLtphqO",
        "eZrbJ2SmphqO",
        "rFu4xreNphqO",
        "7ntM-gokv9YK",
        "JpbsK6JswZ3Q",
        "wHB9ulL3woct",
        "Ir1Zf-2YxVnO",
        "ylSl6qgtp1ck",
        "ZWILFDl5p1ck",
        "M7G43BXep1ck",
        "5zmkG6c5yfHw",
        "lkY7W0Nl378u",
        "_ID-pOf8csdQ",
        "ei2CMnip-uWV",
        "Elihbh8QmKXL",
        "SQO1vfhXf_yP",
        "7zfVkXqMmydN",
        "k4qKMepbg77d",
        "vSdl5tL0g8tV",
        "yAsiUg9bg9zE",
        "Wvh1IUDOnVV-",
        "VixrJyjZiGyd",
        "9vtrrrw8iHwP",
        "L6aa4GgPikOt",
        "svxFxYQ7amtt",
        "5mxo6qn1cde-",
        "-lNvdWEgchKs",
        "le0K57wui_z0",
        "hm1MYplgjlXH",
        "7IGATvoQjqP9",
        "dB3451bZhoTy",
        "6-4d1cGIhAnW",
        "csP0F2tJpG2M",
        "b_ca-FkAltV_",
        "Vy2VFZgtoWaF",
        "DjXHG1-FoUjm",
        "lX2IsYn3oW9i",
        "bmI1zblbpg30",
        "AVdhNC3yqPvp",
        "lj-lFYvRqXxH",
        "HgQrIuy5jKXq",
        "N5Y8VDVqj05i",
        "Se7X7O9nqHW7",
        "K4FLOXX2k-4Z",
        "xBghnNeGmRO1",
        "Oh2GasuhBRGE",
        "TJzYzMFPBXem",
        "nepeKchdr-x9",
        "q29F0dvdveiT",
        "EXh0U9oCveiU",
        "22aHeOlLveiV",
        "p46J6Yy_FXfa",
        "8G2x9gOozGDZ",
        "gCX9965dhzqZ"
      ]
    },
    "kernelspec": {
      "name": "python3",
      "display_name": "Python 3"
    },
    "language_info": {
      "name": "python"
    }
  },
  "cells": [
    {
      "cell_type": "markdown",
      "source": [
        "# **Project Name**    - Hotel booking analysis\n",
        "\n"
      ],
      "metadata": {
        "id": "vncDsAP0Gaoa"
      }
    },
    {
      "cell_type": "markdown",
      "source": [
        "##### **Project Type**    - EDA\n",
        "##### **Contribution**    - Team -Almaknight\n",
        "##### **Team Member 1 -** Kratika sharma\n",
        "##### **Team Member 2 -** Pranita tiwari\n",
        "##### **Team Member 3 -** Dharmendra Yadav\n"
      ],
      "metadata": {
        "id": "beRrZCGUAJYm"
      }
    },
    {
      "cell_type": "markdown",
      "source": [
        "# **Project Summary**"
      ],
      "metadata": {
        "id": "FJNUwmbgGyua"
      }
    },
    {
      "cell_type": "markdown",
      "source": [
        "The hotel booking analysis focused on exploring various aspects of hotel bookings, including customer demographics, booking patterns, distribution channels, cancellations, revenue generation, and seasonal trends. By examining the provided charts and insights, we can draw valuable conclusions and understand their potential impact on the business.\n",
        "\n",
        "**Customer Demographics:**\n",
        "\n",
        "The analysis included factors such as customer nationality, market segments, and customer types (transient, contract, group). These insights can help tailor marketing strategies and target specific customer segments effectively.\n",
        "Booking Patterns:\n",
        "\n",
        "Understanding booking patterns, such as lead time, booking duration, and booking changes, provides insights into customer behavior and preferences. This information can guide revenue management strategies and optimize booking processes.\n",
        "\n",
        "**Distribution Channels:**\n",
        "\n",
        "The analysis examined different distribution channels, including online travel agents (OTA), direct bookings, and global distribution systems (GDS). Insights on revenue generation and booking cancellations from various channels can help hotels optimize their distribution strategies and improve revenue streams.\n",
        "\n",
        "**Cancellations:**\n",
        "\n",
        "The analysis delved into the reasons behind booking cancellations, exploring factors such as waiting time, lead time, and room type allocation. Identifying significant cancellation percentages for specific distribution channels (e.g., OTA) highlights areas for improvement and potential revenue loss.\n",
        "\n",
        "**Revenue Generation:**\n",
        "\n",
        "The analysis compared average daily rates (ADR) for different hotels, distribution channels, and months. Understanding revenue generation patterns can assist in pricing strategies, optimizing channel mix, and capitalizing on high-demand periods.\n",
        "\n",
        "**Seasonal Trends:**\n",
        "\n",
        "The analysis uncovered seasonal trends in terms of the number of guests, revenue, and ADR. Identifying peak months, such as August, can help hotels allocate resources effectively, manage staff levels, and tailor marketing campaigns to maximize occupancy and revenue during these periods.\n",
        "The gained insights can positively impact the business in several ways:\n",
        "\n",
        "**Data-Driven Decision-Making:**\n",
        "\n",
        "By leveraging the insights from the analysis, hotels can make informed decisions based on data, enabling them to optimize pricing strategies, allocate resources effectively, and improve overall operational efficiency.\n",
        "Revenue Management:\n",
        "\n",
        "Understanding the factors influencing revenue generation, such as distribution channels and seasonal trends, empowers hotels to implement effective revenue management strategies. This includes adjusting pricing, managing inventory, and targeting specific customer segments to maximize revenue potential.\n",
        "\n",
        "**Enhanced Customer Experience:**\n",
        "\n",
        "The analysis of customer demographics and booking patterns provides valuable insights into customer preferences and behaviors. Hotels can use this information to tailor their services, improve guest experiences, and build customer loyalty.\n",
        "\n",
        "**Marketing and Distribution Optimization:**\n",
        "\n",
        "Insights on distribution channel performance, cancellation rates, and revenue generation can guide hotels in optimizing their marketing and distribution strategies. This may involve strengthening partnerships with high-performing channels, improving outreach on underperforming channels, and addressing cancellation issues through targeted measures.\n",
        "\n",
        "**Competitive Advantage:**\n",
        "\n",
        "Utilizing data-driven insights allows hotels to gain a competitive edge in the market. By understanding customer preferences, optimizing pricing, and aligning marketing efforts with seasonal trends, hotels can position themselves strategically to attract more guests and achieve higher revenue compared to their competitors.\n",
        "\n",
        "While the analysis provided valuable insights, it is essential to continuously monitor and update the analysis based on changing market dynamics and evolving customer behaviors. Additionally, integrating external data sources, such as market trends and competitor analysis, can further enhance the depth and accuracy of the analysis.\n",
        "\n",
        "**In conclusion**, the hotel booking analysis provides a comprehensive understanding of customer behavior, revenue generation patterns, and seasonal trends. By leveraging these insights, hotels can make data-driven decisions, optimize their operations, and create a positive business impact by improving revenue, enhancing customer experiences, and gaining a competitive advantage in the market."
      ],
      "metadata": {
        "id": "ouNZgnfSG7jh"
      }
    },
    {
      "cell_type": "markdown",
      "source": [
        "# **GitHub Link -**"
      ],
      "metadata": {
        "id": "w6K7xa23Elo4"
      }
    },
    {
      "cell_type": "markdown",
      "source": [
        "Provide your GitHub Link here."
      ],
      "metadata": {
        "id": "h1o69JH3Eqqn"
      }
    },
    {
      "cell_type": "markdown",
      "source": [
        "# **Problem Statement**\n"
      ],
      "metadata": {
        "id": "yQaldy8SH6Dl"
      }
    },
    {
      "cell_type": "markdown",
      "source": [
        "**Write Problem Statement Here.**\n",
        "\n",
        "\n",
        "Performed EDA and tried answering the following questions:\n",
        "\n",
        "\n",
        "  Q1) Which agent makes the most no. of bookings?\n",
        "\n",
        " Q2) Which room type is in most demand and which room type generates the highest ADR?\n",
        "\n",
        " Q3) Which meal type is the most preferred meal for customers?\n",
        "\n",
        " Q4) What is the percentage of bookings in each hotel?\n",
        "\n",
        " Q5) Which is the most common channel for booking hotels?\n",
        "\n",
        " Q6) Which are the busiest months?\n",
        "\n",
        " Q7) From which country most of the guests are coming?\n",
        "\n",
        " Q8) How long do people stay at the hotels?\n",
        "\n",
        " Q9) Which hotel seems to make more revenue?\n",
        "\n",
        " Q10) Which hotel has a higher lead time?\n",
        "\n",
        " Q11) What is the preferred stay length in each hotel?\n",
        "\n",
        " Q12) Which hotel has a higher bookings cancellation rate?\n",
        "\n",
        " Q13) Which hotel has a high chance that its customer will return for another stay?\n",
        "\n",
        " Q14) Which channel is mostly used for the early booking of hotels?\n",
        "\n",
        " Q15) Which channel has a longer average waiting time?\n",
        "\n",
        " Q16) Which distribution channel brings better revenue-generating deals for hotels?\n",
        "\n",
        " Q17) Which significant distribution channel has the highest cancellation percentage?\n",
        "\n",
        " Q18) Does a longer waiting period or longer-lead time causes the cancellation of bookings?\n",
        "\n",
        " Q19) Whether not getting allotted the same room type as demand the main cause of cancellation for bookings?\n",
        "\n",
        " Q20) Does not allowing the same room as demanded to affect ADR?\n",
        "\n"
      ],
      "metadata": {
        "id": "DpeJGUA3kjGy"
      }
    },
    {
      "cell_type": "markdown",
      "source": [
        "#### **Define Your Business Objective?**"
      ],
      "metadata": {
        "id": "PH-0ReGfmX4f"
      }
    },
    {
      "cell_type": "markdown",
      "source": [
        "The objective of this project is to perform an EDA on the hotel booking dataset to gain some insights which will be helpful in understanding the patterns and trends in booking analysis, cancellation analysis, Revenue analysis, customer segmentation and competitive analysis. The valuable insights gained will be helpful in improving operational efficiency, better financial management, increasing revenue, and supporting data-driven decision-making and competitive positioning."
      ],
      "metadata": {
        "id": "PhDvGCAqmjP1"
      }
    },
    {
      "cell_type": "markdown",
      "source": [
        "# **General Guidelines** : -"
      ],
      "metadata": {
        "id": "mDgbUHAGgjLW"
      }
    },
    {
      "cell_type": "markdown",
      "source": [
        "1.   Well-structured, formatted, and commented code is required.\n",
        "2.   Exception Handling, Production Grade Code & Deployment Ready Code will be a plus. Those students will be awarded some additional credits.\n",
        "\n",
        "     The additional credits will have advantages over other students during Star Student selection.\n",
        "\n",
        "             [ Note: - Deployment Ready Code is defined as, the whole .ipynb notebook should be executable in one go\n",
        "                       without a single error logged. ]\n",
        "\n",
        "3.   Each and every logic should have proper comments.\n",
        "4. You may add as many number of charts you want. Make Sure for each and every chart the following format should be answered.\n",
        "\n",
        "\n",
        "```\n",
        "# Chart visualization code\n",
        "```\n",
        "\n",
        "\n",
        "*   Why did you pick the specific chart?\n",
        "*   What is/are the insight(s) found from the chart?\n",
        "* Will the gained insights help creating a positive business impact?\n",
        "Are there any insights that lead to negative growth? Justify with specific reason.\n",
        "\n",
        "5. You have to create at least 20 logical & meaningful charts having important insights.\n",
        "\n",
        "\n",
        "[ Hints : - Do the Vizualization in  a structured way while following \"UBM\" Rule.\n",
        "\n",
        "U - Univariate Analysis,\n",
        "\n",
        "B - Bivariate Analysis (Numerical - Categorical, Numerical - Numerical, Categorical - Categorical)\n",
        "\n",
        "M - Multivariate Analysis\n",
        " ]\n",
        "\n",
        "\n",
        "\n"
      ],
      "metadata": {
        "id": "ZrxVaUj-hHfC"
      }
    },
    {
      "cell_type": "markdown",
      "source": [
        "# ***Let's Begin !***"
      ],
      "metadata": {
        "id": "O_i_v8NEhb9l"
      }
    },
    {
      "cell_type": "markdown",
      "source": [
        "## ***1. Know Your Data***"
      ],
      "metadata": {
        "id": "HhfV-JJviCcP"
      }
    },
    {
      "cell_type": "markdown",
      "source": [
        "### Import Libraries"
      ],
      "metadata": {
        "id": "Y3lxredqlCYt"
      }
    },
    {
      "cell_type": "code",
      "source": [
        "# Importing Python Libraries\n",
        "\n",
        "import numpy as np\n",
        "import pandas as pd\n",
        "import matplotlib\n",
        "import matplotlib.pyplot as plt\n",
        "import seaborn as sns\n",
        "import folium\n",
        "import plotly.express as px\n",
        "%matplotlib inline"
      ],
      "metadata": {
        "id": "M8Vqi-pPk-HR"
      },
      "execution_count": null,
      "outputs": []
    },
    {
      "cell_type": "code",
      "source": [
        "# Mounting drive\n",
        "\n",
        "from google.colab import drive\n",
        "drive.mount('/content/drive')"
      ],
      "metadata": {
        "id": "wihYe1Wy_kqc",
        "colab": {
          "base_uri": "https://localhost:8080/"
        },
        "outputId": "6f9de8dd-4c01-4133-a76e-82f2b7d1efe6"
      },
      "execution_count": null,
      "outputs": [
        {
          "output_type": "stream",
          "name": "stdout",
          "text": [
            "Drive already mounted at /content/drive; to attempt to forcibly remount, call drive.mount(\"/content/drive\", force_remount=True).\n"
          ]
        }
      ]
    },
    {
      "cell_type": "markdown",
      "source": [
        "### Dataset Loading"
      ],
      "metadata": {
        "id": "3RnN4peoiCZX"
      }
    },
    {
      "cell_type": "code",
      "source": [
        "# Loading  Dataset and storing in dataframe\n",
        "\n",
        "file_path = '/content/Hotel Bookings.csv'\n",
        "hotel_booking_df = pd.read_csv(file_path)"
      ],
      "metadata": {
        "id": "4CkvbW_SlZ_R"
      },
      "execution_count": null,
      "outputs": []
    },
    {
      "cell_type": "markdown",
      "source": [
        "### Dataset First View"
      ],
      "metadata": {
        "id": "x71ZqKXriCWQ"
      }
    },
    {
      "cell_type": "code",
      "source": [
        "# Dataset First Look\n",
        "\n",
        "hotel_booking_df"
      ],
      "metadata": {
        "id": "LWNFOSvLl09H",
        "colab": {
          "base_uri": "https://localhost:8080/",
          "height": 661
        },
        "outputId": "17a2d365-ab1c-4475-8359-3e80b2cbf325"
      },
      "execution_count": null,
      "outputs": [
        {
          "output_type": "execute_result",
          "data": {
            "text/plain": [
              "               hotel  is_canceled  lead_time  arrival_date_year  \\\n",
              "0       Resort Hotel            0        342               2015   \n",
              "1       Resort Hotel            0        737               2015   \n",
              "2       Resort Hotel            0          7               2015   \n",
              "3       Resort Hotel            0         13               2015   \n",
              "4       Resort Hotel            0         14               2015   \n",
              "...              ...          ...        ...                ...   \n",
              "119385    City Hotel            0         23               2017   \n",
              "119386    City Hotel            0        102               2017   \n",
              "119387    City Hotel            0         34               2017   \n",
              "119388    City Hotel            0        109               2017   \n",
              "119389    City Hotel            0        205               2017   \n",
              "\n",
              "       arrival_date_month  arrival_date_week_number  \\\n",
              "0                    July                        27   \n",
              "1                    July                        27   \n",
              "2                    July                        27   \n",
              "3                    July                        27   \n",
              "4                    July                        27   \n",
              "...                   ...                       ...   \n",
              "119385             August                        35   \n",
              "119386             August                        35   \n",
              "119387             August                        35   \n",
              "119388             August                        35   \n",
              "119389             August                        35   \n",
              "\n",
              "        arrival_date_day_of_month  stays_in_weekend_nights  \\\n",
              "0                               1                        0   \n",
              "1                               1                        0   \n",
              "2                               1                        0   \n",
              "3                               1                        0   \n",
              "4                               1                        0   \n",
              "...                           ...                      ...   \n",
              "119385                         30                        2   \n",
              "119386                         31                        2   \n",
              "119387                         31                        2   \n",
              "119388                         31                        2   \n",
              "119389                         29                        2   \n",
              "\n",
              "        stays_in_week_nights  adults  ...  deposit_type  agent company  \\\n",
              "0                          0       2  ...    No Deposit    NaN     NaN   \n",
              "1                          0       2  ...    No Deposit    NaN     NaN   \n",
              "2                          1       1  ...    No Deposit    NaN     NaN   \n",
              "3                          1       1  ...    No Deposit  304.0     NaN   \n",
              "4                          2       2  ...    No Deposit  240.0     NaN   \n",
              "...                      ...     ...  ...           ...    ...     ...   \n",
              "119385                     5       2  ...    No Deposit  394.0     NaN   \n",
              "119386                     5       3  ...    No Deposit    9.0     NaN   \n",
              "119387                     5       2  ...    No Deposit    9.0     NaN   \n",
              "119388                     5       2  ...    No Deposit   89.0     NaN   \n",
              "119389                     7       2  ...    No Deposit    9.0     NaN   \n",
              "\n",
              "       days_in_waiting_list customer_type     adr  \\\n",
              "0                         0     Transient    0.00   \n",
              "1                         0     Transient    0.00   \n",
              "2                         0     Transient   75.00   \n",
              "3                         0     Transient   75.00   \n",
              "4                         0     Transient   98.00   \n",
              "...                     ...           ...     ...   \n",
              "119385                    0     Transient   96.14   \n",
              "119386                    0     Transient  225.43   \n",
              "119387                    0     Transient  157.71   \n",
              "119388                    0     Transient  104.40   \n",
              "119389                    0     Transient  151.20   \n",
              "\n",
              "        required_car_parking_spaces  total_of_special_requests  \\\n",
              "0                                 0                          0   \n",
              "1                                 0                          0   \n",
              "2                                 0                          0   \n",
              "3                                 0                          0   \n",
              "4                                 0                          1   \n",
              "...                             ...                        ...   \n",
              "119385                            0                          0   \n",
              "119386                            0                          2   \n",
              "119387                            0                          4   \n",
              "119388                            0                          0   \n",
              "119389                            0                          2   \n",
              "\n",
              "        reservation_status reservation_status_date  \n",
              "0                Check-Out              01-07-2015  \n",
              "1                Check-Out              01-07-2015  \n",
              "2                Check-Out              02-07-2015  \n",
              "3                Check-Out              02-07-2015  \n",
              "4                Check-Out              03-07-2015  \n",
              "...                    ...                     ...  \n",
              "119385           Check-Out              06-09-2017  \n",
              "119386           Check-Out              07-09-2017  \n",
              "119387           Check-Out              07-09-2017  \n",
              "119388           Check-Out              07-09-2017  \n",
              "119389           Check-Out              07-09-2017  \n",
              "\n",
              "[119390 rows x 32 columns]"
            ],
            "text/html": [
              "\n",
              "  <div id=\"df-f7fae719-a4a6-4b87-be69-6547ea1bc4c9\">\n",
              "    <div class=\"colab-df-container\">\n",
              "      <div>\n",
              "<style scoped>\n",
              "    .dataframe tbody tr th:only-of-type {\n",
              "        vertical-align: middle;\n",
              "    }\n",
              "\n",
              "    .dataframe tbody tr th {\n",
              "        vertical-align: top;\n",
              "    }\n",
              "\n",
              "    .dataframe thead th {\n",
              "        text-align: right;\n",
              "    }\n",
              "</style>\n",
              "<table border=\"1\" class=\"dataframe\">\n",
              "  <thead>\n",
              "    <tr style=\"text-align: right;\">\n",
              "      <th></th>\n",
              "      <th>hotel</th>\n",
              "      <th>is_canceled</th>\n",
              "      <th>lead_time</th>\n",
              "      <th>arrival_date_year</th>\n",
              "      <th>arrival_date_month</th>\n",
              "      <th>arrival_date_week_number</th>\n",
              "      <th>arrival_date_day_of_month</th>\n",
              "      <th>stays_in_weekend_nights</th>\n",
              "      <th>stays_in_week_nights</th>\n",
              "      <th>adults</th>\n",
              "      <th>...</th>\n",
              "      <th>deposit_type</th>\n",
              "      <th>agent</th>\n",
              "      <th>company</th>\n",
              "      <th>days_in_waiting_list</th>\n",
              "      <th>customer_type</th>\n",
              "      <th>adr</th>\n",
              "      <th>required_car_parking_spaces</th>\n",
              "      <th>total_of_special_requests</th>\n",
              "      <th>reservation_status</th>\n",
              "      <th>reservation_status_date</th>\n",
              "    </tr>\n",
              "  </thead>\n",
              "  <tbody>\n",
              "    <tr>\n",
              "      <th>0</th>\n",
              "      <td>Resort Hotel</td>\n",
              "      <td>0</td>\n",
              "      <td>342</td>\n",
              "      <td>2015</td>\n",
              "      <td>July</td>\n",
              "      <td>27</td>\n",
              "      <td>1</td>\n",
              "      <td>0</td>\n",
              "      <td>0</td>\n",
              "      <td>2</td>\n",
              "      <td>...</td>\n",
              "      <td>No Deposit</td>\n",
              "      <td>NaN</td>\n",
              "      <td>NaN</td>\n",
              "      <td>0</td>\n",
              "      <td>Transient</td>\n",
              "      <td>0.00</td>\n",
              "      <td>0</td>\n",
              "      <td>0</td>\n",
              "      <td>Check-Out</td>\n",
              "      <td>01-07-2015</td>\n",
              "    </tr>\n",
              "    <tr>\n",
              "      <th>1</th>\n",
              "      <td>Resort Hotel</td>\n",
              "      <td>0</td>\n",
              "      <td>737</td>\n",
              "      <td>2015</td>\n",
              "      <td>July</td>\n",
              "      <td>27</td>\n",
              "      <td>1</td>\n",
              "      <td>0</td>\n",
              "      <td>0</td>\n",
              "      <td>2</td>\n",
              "      <td>...</td>\n",
              "      <td>No Deposit</td>\n",
              "      <td>NaN</td>\n",
              "      <td>NaN</td>\n",
              "      <td>0</td>\n",
              "      <td>Transient</td>\n",
              "      <td>0.00</td>\n",
              "      <td>0</td>\n",
              "      <td>0</td>\n",
              "      <td>Check-Out</td>\n",
              "      <td>01-07-2015</td>\n",
              "    </tr>\n",
              "    <tr>\n",
              "      <th>2</th>\n",
              "      <td>Resort Hotel</td>\n",
              "      <td>0</td>\n",
              "      <td>7</td>\n",
              "      <td>2015</td>\n",
              "      <td>July</td>\n",
              "      <td>27</td>\n",
              "      <td>1</td>\n",
              "      <td>0</td>\n",
              "      <td>1</td>\n",
              "      <td>1</td>\n",
              "      <td>...</td>\n",
              "      <td>No Deposit</td>\n",
              "      <td>NaN</td>\n",
              "      <td>NaN</td>\n",
              "      <td>0</td>\n",
              "      <td>Transient</td>\n",
              "      <td>75.00</td>\n",
              "      <td>0</td>\n",
              "      <td>0</td>\n",
              "      <td>Check-Out</td>\n",
              "      <td>02-07-2015</td>\n",
              "    </tr>\n",
              "    <tr>\n",
              "      <th>3</th>\n",
              "      <td>Resort Hotel</td>\n",
              "      <td>0</td>\n",
              "      <td>13</td>\n",
              "      <td>2015</td>\n",
              "      <td>July</td>\n",
              "      <td>27</td>\n",
              "      <td>1</td>\n",
              "      <td>0</td>\n",
              "      <td>1</td>\n",
              "      <td>1</td>\n",
              "      <td>...</td>\n",
              "      <td>No Deposit</td>\n",
              "      <td>304.0</td>\n",
              "      <td>NaN</td>\n",
              "      <td>0</td>\n",
              "      <td>Transient</td>\n",
              "      <td>75.00</td>\n",
              "      <td>0</td>\n",
              "      <td>0</td>\n",
              "      <td>Check-Out</td>\n",
              "      <td>02-07-2015</td>\n",
              "    </tr>\n",
              "    <tr>\n",
              "      <th>4</th>\n",
              "      <td>Resort Hotel</td>\n",
              "      <td>0</td>\n",
              "      <td>14</td>\n",
              "      <td>2015</td>\n",
              "      <td>July</td>\n",
              "      <td>27</td>\n",
              "      <td>1</td>\n",
              "      <td>0</td>\n",
              "      <td>2</td>\n",
              "      <td>2</td>\n",
              "      <td>...</td>\n",
              "      <td>No Deposit</td>\n",
              "      <td>240.0</td>\n",
              "      <td>NaN</td>\n",
              "      <td>0</td>\n",
              "      <td>Transient</td>\n",
              "      <td>98.00</td>\n",
              "      <td>0</td>\n",
              "      <td>1</td>\n",
              "      <td>Check-Out</td>\n",
              "      <td>03-07-2015</td>\n",
              "    </tr>\n",
              "    <tr>\n",
              "      <th>...</th>\n",
              "      <td>...</td>\n",
              "      <td>...</td>\n",
              "      <td>...</td>\n",
              "      <td>...</td>\n",
              "      <td>...</td>\n",
              "      <td>...</td>\n",
              "      <td>...</td>\n",
              "      <td>...</td>\n",
              "      <td>...</td>\n",
              "      <td>...</td>\n",
              "      <td>...</td>\n",
              "      <td>...</td>\n",
              "      <td>...</td>\n",
              "      <td>...</td>\n",
              "      <td>...</td>\n",
              "      <td>...</td>\n",
              "      <td>...</td>\n",
              "      <td>...</td>\n",
              "      <td>...</td>\n",
              "      <td>...</td>\n",
              "      <td>...</td>\n",
              "    </tr>\n",
              "    <tr>\n",
              "      <th>119385</th>\n",
              "      <td>City Hotel</td>\n",
              "      <td>0</td>\n",
              "      <td>23</td>\n",
              "      <td>2017</td>\n",
              "      <td>August</td>\n",
              "      <td>35</td>\n",
              "      <td>30</td>\n",
              "      <td>2</td>\n",
              "      <td>5</td>\n",
              "      <td>2</td>\n",
              "      <td>...</td>\n",
              "      <td>No Deposit</td>\n",
              "      <td>394.0</td>\n",
              "      <td>NaN</td>\n",
              "      <td>0</td>\n",
              "      <td>Transient</td>\n",
              "      <td>96.14</td>\n",
              "      <td>0</td>\n",
              "      <td>0</td>\n",
              "      <td>Check-Out</td>\n",
              "      <td>06-09-2017</td>\n",
              "    </tr>\n",
              "    <tr>\n",
              "      <th>119386</th>\n",
              "      <td>City Hotel</td>\n",
              "      <td>0</td>\n",
              "      <td>102</td>\n",
              "      <td>2017</td>\n",
              "      <td>August</td>\n",
              "      <td>35</td>\n",
              "      <td>31</td>\n",
              "      <td>2</td>\n",
              "      <td>5</td>\n",
              "      <td>3</td>\n",
              "      <td>...</td>\n",
              "      <td>No Deposit</td>\n",
              "      <td>9.0</td>\n",
              "      <td>NaN</td>\n",
              "      <td>0</td>\n",
              "      <td>Transient</td>\n",
              "      <td>225.43</td>\n",
              "      <td>0</td>\n",
              "      <td>2</td>\n",
              "      <td>Check-Out</td>\n",
              "      <td>07-09-2017</td>\n",
              "    </tr>\n",
              "    <tr>\n",
              "      <th>119387</th>\n",
              "      <td>City Hotel</td>\n",
              "      <td>0</td>\n",
              "      <td>34</td>\n",
              "      <td>2017</td>\n",
              "      <td>August</td>\n",
              "      <td>35</td>\n",
              "      <td>31</td>\n",
              "      <td>2</td>\n",
              "      <td>5</td>\n",
              "      <td>2</td>\n",
              "      <td>...</td>\n",
              "      <td>No Deposit</td>\n",
              "      <td>9.0</td>\n",
              "      <td>NaN</td>\n",
              "      <td>0</td>\n",
              "      <td>Transient</td>\n",
              "      <td>157.71</td>\n",
              "      <td>0</td>\n",
              "      <td>4</td>\n",
              "      <td>Check-Out</td>\n",
              "      <td>07-09-2017</td>\n",
              "    </tr>\n",
              "    <tr>\n",
              "      <th>119388</th>\n",
              "      <td>City Hotel</td>\n",
              "      <td>0</td>\n",
              "      <td>109</td>\n",
              "      <td>2017</td>\n",
              "      <td>August</td>\n",
              "      <td>35</td>\n",
              "      <td>31</td>\n",
              "      <td>2</td>\n",
              "      <td>5</td>\n",
              "      <td>2</td>\n",
              "      <td>...</td>\n",
              "      <td>No Deposit</td>\n",
              "      <td>89.0</td>\n",
              "      <td>NaN</td>\n",
              "      <td>0</td>\n",
              "      <td>Transient</td>\n",
              "      <td>104.40</td>\n",
              "      <td>0</td>\n",
              "      <td>0</td>\n",
              "      <td>Check-Out</td>\n",
              "      <td>07-09-2017</td>\n",
              "    </tr>\n",
              "    <tr>\n",
              "      <th>119389</th>\n",
              "      <td>City Hotel</td>\n",
              "      <td>0</td>\n",
              "      <td>205</td>\n",
              "      <td>2017</td>\n",
              "      <td>August</td>\n",
              "      <td>35</td>\n",
              "      <td>29</td>\n",
              "      <td>2</td>\n",
              "      <td>7</td>\n",
              "      <td>2</td>\n",
              "      <td>...</td>\n",
              "      <td>No Deposit</td>\n",
              "      <td>9.0</td>\n",
              "      <td>NaN</td>\n",
              "      <td>0</td>\n",
              "      <td>Transient</td>\n",
              "      <td>151.20</td>\n",
              "      <td>0</td>\n",
              "      <td>2</td>\n",
              "      <td>Check-Out</td>\n",
              "      <td>07-09-2017</td>\n",
              "    </tr>\n",
              "  </tbody>\n",
              "</table>\n",
              "<p>119390 rows × 32 columns</p>\n",
              "</div>\n",
              "      <button class=\"colab-df-convert\" onclick=\"convertToInteractive('df-f7fae719-a4a6-4b87-be69-6547ea1bc4c9')\"\n",
              "              title=\"Convert this dataframe to an interactive table.\"\n",
              "              style=\"display:none;\">\n",
              "        \n",
              "  <svg xmlns=\"http://www.w3.org/2000/svg\" height=\"24px\"viewBox=\"0 0 24 24\"\n",
              "       width=\"24px\">\n",
              "    <path d=\"M0 0h24v24H0V0z\" fill=\"none\"/>\n",
              "    <path d=\"M18.56 5.44l.94 2.06.94-2.06 2.06-.94-2.06-.94-.94-2.06-.94 2.06-2.06.94zm-11 1L8.5 8.5l.94-2.06 2.06-.94-2.06-.94L8.5 2.5l-.94 2.06-2.06.94zm10 10l.94 2.06.94-2.06 2.06-.94-2.06-.94-.94-2.06-.94 2.06-2.06.94z\"/><path d=\"M17.41 7.96l-1.37-1.37c-.4-.4-.92-.59-1.43-.59-.52 0-1.04.2-1.43.59L10.3 9.45l-7.72 7.72c-.78.78-.78 2.05 0 2.83L4 21.41c.39.39.9.59 1.41.59.51 0 1.02-.2 1.41-.59l7.78-7.78 2.81-2.81c.8-.78.8-2.07 0-2.86zM5.41 20L4 18.59l7.72-7.72 1.47 1.35L5.41 20z\"/>\n",
              "  </svg>\n",
              "      </button>\n",
              "      \n",
              "  <style>\n",
              "    .colab-df-container {\n",
              "      display:flex;\n",
              "      flex-wrap:wrap;\n",
              "      gap: 12px;\n",
              "    }\n",
              "\n",
              "    .colab-df-convert {\n",
              "      background-color: #E8F0FE;\n",
              "      border: none;\n",
              "      border-radius: 50%;\n",
              "      cursor: pointer;\n",
              "      display: none;\n",
              "      fill: #1967D2;\n",
              "      height: 32px;\n",
              "      padding: 0 0 0 0;\n",
              "      width: 32px;\n",
              "    }\n",
              "\n",
              "    .colab-df-convert:hover {\n",
              "      background-color: #E2EBFA;\n",
              "      box-shadow: 0px 1px 2px rgba(60, 64, 67, 0.3), 0px 1px 3px 1px rgba(60, 64, 67, 0.15);\n",
              "      fill: #174EA6;\n",
              "    }\n",
              "\n",
              "    [theme=dark] .colab-df-convert {\n",
              "      background-color: #3B4455;\n",
              "      fill: #D2E3FC;\n",
              "    }\n",
              "\n",
              "    [theme=dark] .colab-df-convert:hover {\n",
              "      background-color: #434B5C;\n",
              "      box-shadow: 0px 1px 3px 1px rgba(0, 0, 0, 0.15);\n",
              "      filter: drop-shadow(0px 1px 2px rgba(0, 0, 0, 0.3));\n",
              "      fill: #FFFFFF;\n",
              "    }\n",
              "  </style>\n",
              "\n",
              "      <script>\n",
              "        const buttonEl =\n",
              "          document.querySelector('#df-f7fae719-a4a6-4b87-be69-6547ea1bc4c9 button.colab-df-convert');\n",
              "        buttonEl.style.display =\n",
              "          google.colab.kernel.accessAllowed ? 'block' : 'none';\n",
              "\n",
              "        async function convertToInteractive(key) {\n",
              "          const element = document.querySelector('#df-f7fae719-a4a6-4b87-be69-6547ea1bc4c9');\n",
              "          const dataTable =\n",
              "            await google.colab.kernel.invokeFunction('convertToInteractive',\n",
              "                                                     [key], {});\n",
              "          if (!dataTable) return;\n",
              "\n",
              "          const docLinkHtml = 'Like what you see? Visit the ' +\n",
              "            '<a target=\"_blank\" href=https://colab.research.google.com/notebooks/data_table.ipynb>data table notebook</a>'\n",
              "            + ' to learn more about interactive tables.';\n",
              "          element.innerHTML = '';\n",
              "          dataTable['output_type'] = 'display_data';\n",
              "          await google.colab.output.renderOutput(dataTable, element);\n",
              "          const docLink = document.createElement('div');\n",
              "          docLink.innerHTML = docLinkHtml;\n",
              "          element.appendChild(docLink);\n",
              "        }\n",
              "      </script>\n",
              "    </div>\n",
              "  </div>\n",
              "  "
            ]
          },
          "metadata": {},
          "execution_count": 480
        }
      ]
    },
    {
      "cell_type": "markdown",
      "source": [
        "### Dataset Rows & Columns count"
      ],
      "metadata": {
        "id": "7hBIi_osiCS2"
      }
    },
    {
      "cell_type": "code",
      "source": [
        "# Dataset Rows & Columns count\n",
        "\n",
        "hotel_booking_df.shape"
      ],
      "metadata": {
        "id": "Kllu7SJgmLij",
        "colab": {
          "base_uri": "https://localhost:8080/"
        },
        "outputId": "0431e5c5-07a1-4f84-e0ad-24716b1cd6ed"
      },
      "execution_count": null,
      "outputs": [
        {
          "output_type": "execute_result",
          "data": {
            "text/plain": [
              "(119390, 32)"
            ]
          },
          "metadata": {},
          "execution_count": 481
        }
      ]
    },
    {
      "cell_type": "markdown",
      "source": [
        "### Dataset Information"
      ],
      "metadata": {
        "id": "JlHwYmJAmNHm"
      }
    },
    {
      "cell_type": "code",
      "source": [
        "# Dataset Info\n",
        "\n",
        "hotel_booking_df.info"
      ],
      "metadata": {
        "id": "e9hRXRi6meOf",
        "colab": {
          "base_uri": "https://localhost:8080/"
        },
        "outputId": "6deec49d-52e5-4c42-a13d-b21d9222a2cd"
      },
      "execution_count": null,
      "outputs": [
        {
          "output_type": "execute_result",
          "data": {
            "text/plain": [
              "<bound method DataFrame.info of                hotel  is_canceled  lead_time  arrival_date_year  \\\n",
              "0       Resort Hotel            0        342               2015   \n",
              "1       Resort Hotel            0        737               2015   \n",
              "2       Resort Hotel            0          7               2015   \n",
              "3       Resort Hotel            0         13               2015   \n",
              "4       Resort Hotel            0         14               2015   \n",
              "...              ...          ...        ...                ...   \n",
              "119385    City Hotel            0         23               2017   \n",
              "119386    City Hotel            0        102               2017   \n",
              "119387    City Hotel            0         34               2017   \n",
              "119388    City Hotel            0        109               2017   \n",
              "119389    City Hotel            0        205               2017   \n",
              "\n",
              "       arrival_date_month  arrival_date_week_number  \\\n",
              "0                    July                        27   \n",
              "1                    July                        27   \n",
              "2                    July                        27   \n",
              "3                    July                        27   \n",
              "4                    July                        27   \n",
              "...                   ...                       ...   \n",
              "119385             August                        35   \n",
              "119386             August                        35   \n",
              "119387             August                        35   \n",
              "119388             August                        35   \n",
              "119389             August                        35   \n",
              "\n",
              "        arrival_date_day_of_month  stays_in_weekend_nights  \\\n",
              "0                               1                        0   \n",
              "1                               1                        0   \n",
              "2                               1                        0   \n",
              "3                               1                        0   \n",
              "4                               1                        0   \n",
              "...                           ...                      ...   \n",
              "119385                         30                        2   \n",
              "119386                         31                        2   \n",
              "119387                         31                        2   \n",
              "119388                         31                        2   \n",
              "119389                         29                        2   \n",
              "\n",
              "        stays_in_week_nights  adults  ...  deposit_type  agent company  \\\n",
              "0                          0       2  ...    No Deposit    NaN     NaN   \n",
              "1                          0       2  ...    No Deposit    NaN     NaN   \n",
              "2                          1       1  ...    No Deposit    NaN     NaN   \n",
              "3                          1       1  ...    No Deposit  304.0     NaN   \n",
              "4                          2       2  ...    No Deposit  240.0     NaN   \n",
              "...                      ...     ...  ...           ...    ...     ...   \n",
              "119385                     5       2  ...    No Deposit  394.0     NaN   \n",
              "119386                     5       3  ...    No Deposit    9.0     NaN   \n",
              "119387                     5       2  ...    No Deposit    9.0     NaN   \n",
              "119388                     5       2  ...    No Deposit   89.0     NaN   \n",
              "119389                     7       2  ...    No Deposit    9.0     NaN   \n",
              "\n",
              "       days_in_waiting_list customer_type     adr  \\\n",
              "0                         0     Transient    0.00   \n",
              "1                         0     Transient    0.00   \n",
              "2                         0     Transient   75.00   \n",
              "3                         0     Transient   75.00   \n",
              "4                         0     Transient   98.00   \n",
              "...                     ...           ...     ...   \n",
              "119385                    0     Transient   96.14   \n",
              "119386                    0     Transient  225.43   \n",
              "119387                    0     Transient  157.71   \n",
              "119388                    0     Transient  104.40   \n",
              "119389                    0     Transient  151.20   \n",
              "\n",
              "        required_car_parking_spaces  total_of_special_requests  \\\n",
              "0                                 0                          0   \n",
              "1                                 0                          0   \n",
              "2                                 0                          0   \n",
              "3                                 0                          0   \n",
              "4                                 0                          1   \n",
              "...                             ...                        ...   \n",
              "119385                            0                          0   \n",
              "119386                            0                          2   \n",
              "119387                            0                          4   \n",
              "119388                            0                          0   \n",
              "119389                            0                          2   \n",
              "\n",
              "        reservation_status reservation_status_date  \n",
              "0                Check-Out              01-07-2015  \n",
              "1                Check-Out              01-07-2015  \n",
              "2                Check-Out              02-07-2015  \n",
              "3                Check-Out              02-07-2015  \n",
              "4                Check-Out              03-07-2015  \n",
              "...                    ...                     ...  \n",
              "119385           Check-Out              06-09-2017  \n",
              "119386           Check-Out              07-09-2017  \n",
              "119387           Check-Out              07-09-2017  \n",
              "119388           Check-Out              07-09-2017  \n",
              "119389           Check-Out              07-09-2017  \n",
              "\n",
              "[119390 rows x 32 columns]>"
            ]
          },
          "metadata": {},
          "execution_count": 482
        }
      ]
    },
    {
      "cell_type": "markdown",
      "source": [
        "Data cleaning is an essential pre-EDA step that eliminates ambiguous data affecting EDA outcomes. It involves removing duplicates, addressing missing values, converting columns to appropriate types, and adding relevant columns."
      ],
      "metadata": {
        "id": "fsVwjY4nBBd9"
      }
    },
    {
      "cell_type": "markdown",
      "source": [
        "#### Duplicate Values"
      ],
      "metadata": {
        "id": "35m5QtbWiB9F"
      }
    },
    {
      "cell_type": "code",
      "source": [
        "# Dataset Duplicate Value Count\n",
        "\n",
        "hotel_booking_df[hotel_booking_df.duplicated()].shape  ## checking duplicate rows"
      ],
      "metadata": {
        "id": "1sLdpKYkmox0",
        "colab": {
          "base_uri": "https://localhost:8080/"
        },
        "outputId": "db7c200e-5c47-4c4a-b458-d6058529655e"
      },
      "execution_count": null,
      "outputs": [
        {
          "output_type": "execute_result",
          "data": {
            "text/plain": [
              "(31994, 32)"
            ]
          },
          "metadata": {},
          "execution_count": 483
        }
      ]
    },
    {
      "cell_type": "code",
      "source": [
        "# Dropping duplicate value\n",
        "\n",
        "hotel_booking_df.drop_duplicates(inplace = True)"
      ],
      "metadata": {
        "id": "i_MWBldBBnOY"
      },
      "execution_count": null,
      "outputs": []
    },
    {
      "cell_type": "code",
      "source": [
        "# checking shape\n",
        "\n",
        "hotel_booking_df.shape"
      ],
      "metadata": {
        "id": "VNXhjUILCEmX",
        "colab": {
          "base_uri": "https://localhost:8080/"
        },
        "outputId": "26363e6b-01ac-4583-ec18-41c59a6487b4"
      },
      "execution_count": null,
      "outputs": [
        {
          "output_type": "execute_result",
          "data": {
            "text/plain": [
              "(87396, 32)"
            ]
          },
          "metadata": {},
          "execution_count": 485
        }
      ]
    },
    {
      "cell_type": "markdown",
      "source": [
        "#### Missing Values/Null Values"
      ],
      "metadata": {
        "id": "PoPl-ycgm1ru"
      }
    },
    {
      "cell_type": "code",
      "source": [
        "# Missing Values/Null Values Count\n",
        "\n",
        "hotel_booking_df.isnull().sum().sort_values(ascending = False)[:6]"
      ],
      "metadata": {
        "id": "GgHWkxvamxVg",
        "colab": {
          "base_uri": "https://localhost:8080/"
        },
        "outputId": "d26ef187-5603-4226-bbcd-7ca7dabad641"
      },
      "execution_count": null,
      "outputs": [
        {
          "output_type": "execute_result",
          "data": {
            "text/plain": [
              "company               82137\n",
              "agent                 12193\n",
              "country                 452\n",
              "children                  4\n",
              "reserved_room_type        0\n",
              "assigned_room_type        0\n",
              "dtype: int64"
            ]
          },
          "metadata": {},
          "execution_count": 486
        }
      ]
    },
    {
      "cell_type": "code",
      "source": [
        "# Visualizing the missing values\n",
        "\n",
        "fig,axes = plt.subplots(1,1,figsize=(20,10))\n",
        "sns.heatmap(hotel_booking_df.isna())\n",
        "plt.show()"
      ],
      "metadata": {
        "id": "3q5wnI3om9sJ",
        "colab": {
          "base_uri": "https://localhost:8080/"
        },
        "outputId": "081801d8-9e86-41ec-c675-81611d5c962a"
      },
      "execution_count": null,
      "outputs": [
        {
          "output_type": "display_data",
          "data": {
            "text/plain": [
              "<Figure size 2000x1000 with 2 Axes>"
            ],
            "image/png": "[encoded data removed]"
          },
          "metadata": {}
        }
      ]
    },
    {
      "cell_type": "markdown",
      "source": [
        "We will replace null values by 0 in these columns"
      ],
      "metadata": {
        "id": "mMtsEHfrD42n"
      }
    },
    {
      "cell_type": "code",
      "source": [
        "hotel_booking_df[['company','agent']] = hotel_booking_df[['company','agent']].fillna(0)"
      ],
      "metadata": {
        "id": "vnh_LvAJD3Kj"
      },
      "execution_count": null,
      "outputs": []
    },
    {
      "cell_type": "code",
      "source": [
        "hotel_booking_df['children'].unique()"
      ],
      "metadata": {
        "id": "x646V9-eEZZA",
        "colab": {
          "base_uri": "https://localhost:8080/"
        },
        "outputId": "2282f259-1be3-48e8-865a-5a9549e8f14c"
      },
      "execution_count": null,
      "outputs": [
        {
          "output_type": "execute_result",
          "data": {
            "text/plain": [
              "array([ 0.,  1.,  2., 10.,  3., nan])"
            ]
          },
          "metadata": {},
          "execution_count": 489
        }
      ]
    },
    {
      "cell_type": "markdown",
      "source": [
        "In this column 'children' has 0 as a value which means 0 children were present in the group of customers who made that transaction.So, 'nan' values are the missing values due to errors in recording data.Now we are going to replace the null values under this column with the mean value of children."
      ],
      "metadata": {
        "id": "cgDK11K2FL3S"
      }
    },
    {
      "cell_type": "code",
      "source": [
        "hotel_booking_df['children'].fillna(hotel_booking_df['children'].mean(), inplace = True)"
      ],
      "metadata": {
        "id": "YH8_5JOWFrHN"
      },
      "execution_count": null,
      "outputs": []
    },
    {
      "cell_type": "markdown",
      "source": [
        "The next column with the missing value is 'country'. This column represents the country of origin of the customer.Since this column has a datatype of the string. We will replace the missing value with the mode of the 'country' column.\n"
      ],
      "metadata": {
        "id": "c9riAslzGLoD"
      }
    },
    {
      "cell_type": "code",
      "source": [
        "hotel_booking_df['country'].fillna('others', inplace = True)"
      ],
      "metadata": {
        "id": "bWwOWK6-K1gb"
      },
      "execution_count": null,
      "outputs": []
    },
    {
      "cell_type": "code",
      "source": [
        "# Checking if all null values are removed\n",
        "\n",
        "hotel_booking_df.isnull().sum().sort_values(ascending = False)[:6]"
      ],
      "metadata": {
        "id": "6ua5YHZYK4p1",
        "colab": {
          "base_uri": "https://localhost:8080/"
        },
        "outputId": "7bb9f7cd-1b4a-4796-e9c5-88efdddc54dc"
      },
      "execution_count": null,
      "outputs": [
        {
          "output_type": "execute_result",
          "data": {
            "text/plain": [
              "hotel                          0\n",
              "is_canceled                    0\n",
              "reservation_status             0\n",
              "total_of_special_requests      0\n",
              "required_car_parking_spaces    0\n",
              "adr                            0\n",
              "dtype: int64"
            ]
          },
          "metadata": {},
          "execution_count": 492
        }
      ]
    },
    {
      "cell_type": "markdown",
      "source": [
        "In the dataset some rows with total number of adults, children or babies equal to zero. So we will remove such rows."
      ],
      "metadata": {
        "id": "GJn02qc7LsEx"
      }
    },
    {
      "cell_type": "code",
      "source": [
        "hotel_booking_df[hotel_booking_df['adults']+hotel_booking_df['babies']+hotel_booking_df['children'] == 0].shape"
      ],
      "metadata": {
        "id": "JQ17peH7LVOY",
        "colab": {
          "base_uri": "https://localhost:8080/"
        },
        "outputId": "0389d6ae-a4ab-4e08-98fb-7e3d9af16a14"
      },
      "execution_count": null,
      "outputs": [
        {
          "output_type": "execute_result",
          "data": {
            "text/plain": [
              "(166, 32)"
            ]
          },
          "metadata": {},
          "execution_count": 493
        }
      ]
    },
    {
      "cell_type": "code",
      "source": [
        "hotel_booking_df.drop(hotel_booking_df[hotel_booking_df['adults']+hotel_booking_df['babies']+hotel_booking_df['children'] == 0].index, inplace = True)"
      ],
      "metadata": {
        "id": "XNpNHMkqLXU_"
      },
      "execution_count": null,
      "outputs": []
    },
    {
      "cell_type": "markdown",
      "source": [
        "### What did you know about your dataset?"
      ],
      "metadata": {
        "id": "H0kj-8xxnORC"
      }
    },
    {
      "cell_type": "markdown",
      "source": [
        "Till now I get know that this data have rows 119390 and columns 32 and I was able to identify there are lots of duplicate missing and null value are there."
      ],
      "metadata": {
        "id": "gfoNAAC-nUe_"
      }
    },
    {
      "cell_type": "markdown",
      "source": [
        "## ***2. Understanding Your Variables***"
      ],
      "metadata": {
        "id": "nA9Y7ga8ng1Z"
      }
    },
    {
      "cell_type": "code",
      "source": [
        "# Dataset Columns\n",
        "\n",
        "hotel_booking_df.columns"
      ],
      "metadata": {
        "id": "j7xfkqrt5Ag5",
        "colab": {
          "base_uri": "https://localhost:8080/"
        },
        "outputId": "3c4f2507-d740-40ad-ff27-97c5a8ca34e0"
      },
      "execution_count": null,
      "outputs": [
        {
          "output_type": "execute_result",
          "data": {
            "text/plain": [
              "Index(['hotel', 'is_canceled', 'lead_time', 'arrival_date_year',\n",
              "       'arrival_date_month', 'arrival_date_week_number',\n",
              "       'arrival_date_day_of_month', 'stays_in_weekend_nights',\n",
              "       'stays_in_week_nights', 'adults', 'children', 'babies', 'meal',\n",
              "       'country', 'market_segment', 'distribution_channel',\n",
              "       'is_repeated_guest', 'previous_cancellations',\n",
              "       'previous_bookings_not_canceled', 'reserved_room_type',\n",
              "       'assigned_room_type', 'booking_changes', 'deposit_type', 'agent',\n",
              "       'company', 'days_in_waiting_list', 'customer_type', 'adr',\n",
              "       'required_car_parking_spaces', 'total_of_special_requests',\n",
              "       'reservation_status', 'reservation_status_date'],\n",
              "      dtype='object')"
            ]
          },
          "metadata": {},
          "execution_count": 495
        }
      ]
    },
    {
      "cell_type": "code",
      "source": [
        "# Dataset Describe\n",
        "\n",
        "hotel_booking_df.describe()"
      ],
      "metadata": {
        "id": "DnOaZdaE5Q5t",
        "colab": {
          "base_uri": "https://localhost:8080/",
          "height": 364
        },
        "outputId": "ddb591ea-b6db-4fad-c05f-ed02cdbc5101"
      },
      "execution_count": null,
      "outputs": [
        {
          "output_type": "execute_result",
          "data": {
            "text/plain": [
              "        is_canceled     lead_time  arrival_date_year  \\\n",
              "count  87230.000000  87230.000000       87230.000000   \n",
              "mean       0.275238     79.971019        2016.210352   \n",
              "std        0.446637     86.058683           0.686064   \n",
              "min        0.000000      0.000000        2015.000000   \n",
              "25%        0.000000     11.000000        2016.000000   \n",
              "50%        0.000000     49.000000        2016.000000   \n",
              "75%        1.000000    125.000000        2017.000000   \n",
              "max        1.000000    737.000000        2017.000000   \n",
              "\n",
              "       arrival_date_week_number  arrival_date_day_of_month  \\\n",
              "count              87230.000000               87230.000000   \n",
              "mean                  26.835091                  15.815832   \n",
              "std                   13.669216                   8.835545   \n",
              "min                    1.000000                   1.000000   \n",
              "25%                   16.000000                   8.000000   \n",
              "50%                   27.000000                  16.000000   \n",
              "75%                   37.000000                  23.000000   \n",
              "max                   53.000000                  31.000000   \n",
              "\n",
              "       stays_in_weekend_nights  stays_in_week_nights        adults  \\\n",
              "count             87230.000000          87230.000000  87230.000000   \n",
              "mean                  1.004609              2.623925      1.879365   \n",
              "std                   1.027408              2.039830      0.621724   \n",
              "min                   0.000000              0.000000      0.000000   \n",
              "25%                   0.000000              1.000000      2.000000   \n",
              "50%                   1.000000              2.000000      2.000000   \n",
              "75%                   2.000000              4.000000      2.000000   \n",
              "max                  19.000000             50.000000     55.000000   \n",
              "\n",
              "           children        babies  is_repeated_guest  previous_cancellations  \\\n",
              "count  87230.000000  87230.000000       87230.000000            87230.000000   \n",
              "mean       0.138904      0.010845           0.038565                0.030402   \n",
              "std        0.456264      0.113704           0.192556                0.369344   \n",
              "min        0.000000      0.000000           0.000000                0.000000   \n",
              "25%        0.000000      0.000000           0.000000                0.000000   \n",
              "50%        0.000000      0.000000           0.000000                0.000000   \n",
              "75%        0.000000      0.000000           0.000000                0.000000   \n",
              "max       10.000000     10.000000           1.000000               26.000000   \n",
              "\n",
              "       previous_bookings_not_canceled  booking_changes         agent  \\\n",
              "count                    87230.000000     87230.000000  87230.000000   \n",
              "mean                         0.184054         0.268497     81.089258   \n",
              "std                          1.733033         0.710633    109.977255   \n",
              "min                          0.000000         0.000000      0.000000   \n",
              "25%                          0.000000         0.000000      9.000000   \n",
              "50%                          0.000000         0.000000      9.000000   \n",
              "75%                          0.000000         0.000000    240.000000   \n",
              "max                         72.000000        18.000000    535.000000   \n",
              "\n",
              "            company  days_in_waiting_list           adr  \\\n",
              "count  87230.000000          87230.000000  87230.000000   \n",
              "mean      10.984948              0.746291    106.518031   \n",
              "std       53.956668             10.001001     54.891227   \n",
              "min        0.000000              0.000000     -6.380000   \n",
              "25%        0.000000              0.000000     72.250000   \n",
              "50%        0.000000              0.000000     98.200000   \n",
              "75%        0.000000              0.000000    134.100000   \n",
              "max      543.000000            391.000000   5400.000000   \n",
              "\n",
              "       required_car_parking_spaces  total_of_special_requests  \n",
              "count                 87230.000000               87230.000000  \n",
              "mean                      0.084306                   0.698934  \n",
              "std                       0.281659                   0.832051  \n",
              "min                       0.000000                   0.000000  \n",
              "25%                       0.000000                   0.000000  \n",
              "50%                       0.000000                   0.000000  \n",
              "75%                       0.000000                   1.000000  \n",
              "max                       8.000000                   5.000000  "
            ],
            "text/html": [
              "\n",
              "  <div id=\"df-61332e19-7622-4cd0-8fb4-915119e8dfc9\">\n",
              "    <div class=\"colab-df-container\">\n",
              "      <div>\n",
              "<style scoped>\n",
              "    .dataframe tbody tr th:only-of-type {\n",
              "        vertical-align: middle;\n",
              "    }\n",
              "\n",
              "    .dataframe tbody tr th {\n",
              "        vertical-align: top;\n",
              "    }\n",
              "\n",
              "    .dataframe thead th {\n",
              "        text-align: right;\n",
              "    }\n",
              "</style>\n",
              "<table border=\"1\" class=\"dataframe\">\n",
              "  <thead>\n",
              "    <tr style=\"text-align: right;\">\n",
              "      <th></th>\n",
              "      <th>is_canceled</th>\n",
              "      <th>lead_time</th>\n",
              "      <th>arrival_date_year</th>\n",
              "      <th>arrival_date_week_number</th>\n",
              "      <th>arrival_date_day_of_month</th>\n",
              "      <th>stays_in_weekend_nights</th>\n",
              "      <th>stays_in_week_nights</th>\n",
              "      <th>adults</th>\n",
              "      <th>children</th>\n",
              "      <th>babies</th>\n",
              "      <th>is_repeated_guest</th>\n",
              "      <th>previous_cancellations</th>\n",
              "      <th>previous_bookings_not_canceled</th>\n",
              "      <th>booking_changes</th>\n",
              "      <th>agent</th>\n",
              "      <th>company</th>\n",
              "      <th>days_in_waiting_list</th>\n",
              "      <th>adr</th>\n",
              "      <th>required_car_parking_spaces</th>\n",
              "      <th>total_of_special_requests</th>\n",
              "    </tr>\n",
              "  </thead>\n",
              "  <tbody>\n",
              "    <tr>\n",
              "      <th>count</th>\n",
              "      <td>87230.000000</td>\n",
              "      <td>87230.000000</td>\n",
              "      <td>87230.000000</td>\n",
              "      <td>87230.000000</td>\n",
              "      <td>87230.000000</td>\n",
              "      <td>87230.000000</td>\n",
              "      <td>87230.000000</td>\n",
              "      <td>87230.000000</td>\n",
              "      <td>87230.000000</td>\n",
              "      <td>87230.000000</td>\n",
              "      <td>87230.000000</td>\n",
              "      <td>87230.000000</td>\n",
              "      <td>87230.000000</td>\n",
              "      <td>87230.000000</td>\n",
              "      <td>87230.000000</td>\n",
              "      <td>87230.000000</td>\n",
              "      <td>87230.000000</td>\n",
              "      <td>87230.000000</td>\n",
              "      <td>87230.000000</td>\n",
              "      <td>87230.000000</td>\n",
              "    </tr>\n",
              "    <tr>\n",
              "      <th>mean</th>\n",
              "      <td>0.275238</td>\n",
              "      <td>79.971019</td>\n",
              "      <td>2016.210352</td>\n",
              "      <td>26.835091</td>\n",
              "      <td>15.815832</td>\n",
              "      <td>1.004609</td>\n",
              "      <td>2.623925</td>\n",
              "      <td>1.879365</td>\n",
              "      <td>0.138904</td>\n",
              "      <td>0.010845</td>\n",
              "      <td>0.038565</td>\n",
              "      <td>0.030402</td>\n",
              "      <td>0.184054</td>\n",
              "      <td>0.268497</td>\n",
              "      <td>81.089258</td>\n",
              "      <td>10.984948</td>\n",
              "      <td>0.746291</td>\n",
              "      <td>106.518031</td>\n",
              "      <td>0.084306</td>\n",
              "      <td>0.698934</td>\n",
              "    </tr>\n",
              "    <tr>\n",
              "      <th>std</th>\n",
              "      <td>0.446637</td>\n",
              "      <td>86.058683</td>\n",
              "      <td>0.686064</td>\n",
              "      <td>13.669216</td>\n",
              "      <td>8.835545</td>\n",
              "      <td>1.027408</td>\n",
              "      <td>2.039830</td>\n",
              "      <td>0.621724</td>\n",
              "      <td>0.456264</td>\n",
              "      <td>0.113704</td>\n",
              "      <td>0.192556</td>\n",
              "      <td>0.369344</td>\n",
              "      <td>1.733033</td>\n",
              "      <td>0.710633</td>\n",
              "      <td>109.977255</td>\n",
              "      <td>53.956668</td>\n",
              "      <td>10.001001</td>\n",
              "      <td>54.891227</td>\n",
              "      <td>0.281659</td>\n",
              "      <td>0.832051</td>\n",
              "    </tr>\n",
              "    <tr>\n",
              "      <th>min</th>\n",
              "      <td>0.000000</td>\n",
              "      <td>0.000000</td>\n",
              "      <td>2015.000000</td>\n",
              "      <td>1.000000</td>\n",
              "      <td>1.000000</td>\n",
              "      <td>0.000000</td>\n",
              "      <td>0.000000</td>\n",
              "      <td>0.000000</td>\n",
              "      <td>0.000000</td>\n",
              "      <td>0.000000</td>\n",
              "      <td>0.000000</td>\n",
              "      <td>0.000000</td>\n",
              "      <td>0.000000</td>\n",
              "      <td>0.000000</td>\n",
              "      <td>0.000000</td>\n",
              "      <td>0.000000</td>\n",
              "      <td>0.000000</td>\n",
              "      <td>-6.380000</td>\n",
              "      <td>0.000000</td>\n",
              "      <td>0.000000</td>\n",
              "    </tr>\n",
              "    <tr>\n",
              "      <th>25%</th>\n",
              "      <td>0.000000</td>\n",
              "      <td>11.000000</td>\n",
              "      <td>2016.000000</td>\n",
              "      <td>16.000000</td>\n",
              "      <td>8.000000</td>\n",
              "      <td>0.000000</td>\n",
              "      <td>1.000000</td>\n",
              "      <td>2.000000</td>\n",
              "      <td>0.000000</td>\n",
              "      <td>0.000000</td>\n",
              "      <td>0.000000</td>\n",
              "      <td>0.000000</td>\n",
              "      <td>0.000000</td>\n",
              "      <td>0.000000</td>\n",
              "      <td>9.000000</td>\n",
              "      <td>0.000000</td>\n",
              "      <td>0.000000</td>\n",
              "      <td>72.250000</td>\n",
              "      <td>0.000000</td>\n",
              "      <td>0.000000</td>\n",
              "    </tr>\n",
              "    <tr>\n",
              "      <th>50%</th>\n",
              "      <td>0.000000</td>\n",
              "      <td>49.000000</td>\n",
              "      <td>2016.000000</td>\n",
              "      <td>27.000000</td>\n",
              "      <td>16.000000</td>\n",
              "      <td>1.000000</td>\n",
              "      <td>2.000000</td>\n",
              "      <td>2.000000</td>\n",
              "      <td>0.000000</td>\n",
              "      <td>0.000000</td>\n",
              "      <td>0.000000</td>\n",
              "      <td>0.000000</td>\n",
              "      <td>0.000000</td>\n",
              "      <td>0.000000</td>\n",
              "      <td>9.000000</td>\n",
              "      <td>0.000000</td>\n",
              "      <td>0.000000</td>\n",
              "      <td>98.200000</td>\n",
              "      <td>0.000000</td>\n",
              "      <td>0.000000</td>\n",
              "    </tr>\n",
              "    <tr>\n",
              "      <th>75%</th>\n",
              "      <td>1.000000</td>\n",
              "      <td>125.000000</td>\n",
              "      <td>2017.000000</td>\n",
              "      <td>37.000000</td>\n",
              "      <td>23.000000</td>\n",
              "      <td>2.000000</td>\n",
              "      <td>4.000000</td>\n",
              "      <td>2.000000</td>\n",
              "      <td>0.000000</td>\n",
              "      <td>0.000000</td>\n",
              "      <td>0.000000</td>\n",
              "      <td>0.000000</td>\n",
              "      <td>0.000000</td>\n",
              "      <td>0.000000</td>\n",
              "      <td>240.000000</td>\n",
              "      <td>0.000000</td>\n",
              "      <td>0.000000</td>\n",
              "      <td>134.100000</td>\n",
              "      <td>0.000000</td>\n",
              "      <td>1.000000</td>\n",
              "    </tr>\n",
              "    <tr>\n",
              "      <th>max</th>\n",
              "      <td>1.000000</td>\n",
              "      <td>737.000000</td>\n",
              "      <td>2017.000000</td>\n",
              "      <td>53.000000</td>\n",
              "      <td>31.000000</td>\n",
              "      <td>19.000000</td>\n",
              "      <td>50.000000</td>\n",
              "      <td>55.000000</td>\n",
              "      <td>10.000000</td>\n",
              "      <td>10.000000</td>\n",
              "      <td>1.000000</td>\n",
              "      <td>26.000000</td>\n",
              "      <td>72.000000</td>\n",
              "      <td>18.000000</td>\n",
              "      <td>535.000000</td>\n",
              "      <td>543.000000</td>\n",
              "      <td>391.000000</td>\n",
              "      <td>5400.000000</td>\n",
              "      <td>8.000000</td>\n",
              "      <td>5.000000</td>\n",
              "    </tr>\n",
              "  </tbody>\n",
              "</table>\n",
              "</div>\n",
              "      <button class=\"colab-df-convert\" onclick=\"convertToInteractive('df-61332e19-7622-4cd0-8fb4-915119e8dfc9')\"\n",
              "              title=\"Convert this dataframe to an interactive table.\"\n",
              "              style=\"display:none;\">\n",
              "        \n",
              "  <svg xmlns=\"http://www.w3.org/2000/svg\" height=\"24px\"viewBox=\"0 0 24 24\"\n",
              "       width=\"24px\">\n",
              "    <path d=\"M0 0h24v24H0V0z\" fill=\"none\"/>\n",
              "    <path d=\"M18.56 5.44l.94 2.06.94-2.06 2.06-.94-2.06-.94-.94-2.06-.94 2.06-2.06.94zm-11 1L8.5 8.5l.94-2.06 2.06-.94-2.06-.94L8.5 2.5l-.94 2.06-2.06.94zm10 10l.94 2.06.94-2.06 2.06-.94-2.06-.94-.94-2.06-.94 2.06-2.06.94z\"/><path d=\"M17.41 7.96l-1.37-1.37c-.4-.4-.92-.59-1.43-.59-.52 0-1.04.2-1.43.59L10.3 9.45l-7.72 7.72c-.78.78-.78 2.05 0 2.83L4 21.41c.39.39.9.59 1.41.59.51 0 1.02-.2 1.41-.59l7.78-7.78 2.81-2.81c.8-.78.8-2.07 0-2.86zM5.41 20L4 18.59l7.72-7.72 1.47 1.35L5.41 20z\"/>\n",
              "  </svg>\n",
              "      </button>\n",
              "      \n",
              "  <style>\n",
              "    .colab-df-container {\n",
              "      display:flex;\n",
              "      flex-wrap:wrap;\n",
              "      gap: 12px;\n",
              "    }\n",
              "\n",
              "    .colab-df-convert {\n",
              "      background-color: #E8F0FE;\n",
              "      border: none;\n",
              "      border-radius: 50%;\n",
              "      cursor: pointer;\n",
              "      display: none;\n",
              "      fill: #1967D2;\n",
              "      height: 32px;\n",
              "      padding: 0 0 0 0;\n",
              "      width: 32px;\n",
              "    }\n",
              "\n",
              "    .colab-df-convert:hover {\n",
              "      background-color: #E2EBFA;\n",
              "      box-shadow: 0px 1px 2px rgba(60, 64, 67, 0.3), 0px 1px 3px 1px rgba(60, 64, 67, 0.15);\n",
              "      fill: #174EA6;\n",
              "    }\n",
              "\n",
              "    [theme=dark] .colab-df-convert {\n",
              "      background-color: #3B4455;\n",
              "      fill: #D2E3FC;\n",
              "    }\n",
              "\n",
              "    [theme=dark] .colab-df-convert:hover {\n",
              "      background-color: #434B5C;\n",
              "      box-shadow: 0px 1px 3px 1px rgba(0, 0, 0, 0.15);\n",
              "      filter: drop-shadow(0px 1px 2px rgba(0, 0, 0, 0.3));\n",
              "      fill: #FFFFFF;\n",
              "    }\n",
              "  </style>\n",
              "\n",
              "      <script>\n",
              "        const buttonEl =\n",
              "          document.querySelector('#df-61332e19-7622-4cd0-8fb4-915119e8dfc9 button.colab-df-convert');\n",
              "        buttonEl.style.display =\n",
              "          google.colab.kernel.accessAllowed ? 'block' : 'none';\n",
              "\n",
              "        async function convertToInteractive(key) {\n",
              "          const element = document.querySelector('#df-61332e19-7622-4cd0-8fb4-915119e8dfc9');\n",
              "          const dataTable =\n",
              "            await google.colab.kernel.invokeFunction('convertToInteractive',\n",
              "                                                     [key], {});\n",
              "          if (!dataTable) return;\n",
              "\n",
              "          const docLinkHtml = 'Like what you see? Visit the ' +\n",
              "            '<a target=\"_blank\" href=https://colab.research.google.com/notebooks/data_table.ipynb>data table notebook</a>'\n",
              "            + ' to learn more about interactive tables.';\n",
              "          element.innerHTML = '';\n",
              "          dataTable['output_type'] = 'display_data';\n",
              "          await google.colab.output.renderOutput(dataTable, element);\n",
              "          const docLink = document.createElement('div');\n",
              "          docLink.innerHTML = docLinkHtml;\n",
              "          element.appendChild(docLink);\n",
              "        }\n",
              "      </script>\n",
              "    </div>\n",
              "  </div>\n",
              "  "
            ]
          },
          "metadata": {},
          "execution_count": 496
        }
      ]
    },
    {
      "cell_type": "markdown",
      "source": [
        "### Variables Description"
      ],
      "metadata": {
        "id": "PBTbrJXOngz2"
      }
    },
    {
      "cell_type": "markdown",
      "source": [
        "1. **hotel**: Categorical - Resort hotel or city hotel.\n",
        "2.\t**is_canceled**: ‘1’ for booking and ‘0’  not cancelled.\n",
        "3.\t**lead_time**: Period between time of booking and checking in (considered in days here).\n",
        "4.\t**arrival_date_month**: Arrival month\n",
        "5.\t**country**: Country of origin. List of 158 countries.\n",
        "6.\t**days_in_waiting_list**: Number of waiting days.\n",
        "7.\t**Deposit_type**: Categorical - No-deposit, Non-Refund, Refundable.\n",
        "8.\t**Adr**: Average Daily rate as defined by the average rental revenue earned for an occupied room per day.\n",
        "9.\t**Adults, Babies, Children**: Number of adults, babies and children.\n",
        "10.\t**Assigned Room Type**: Code for the type of room assigned to the booking.\n",
        "11.\t**Booking Changes**: Number of changes/amendments made to the booking from the moment the booking was entered on the PMS until the moment of check-in or cancellation.\n",
        "12.\t**Distribution_channel**: Booking distribution channel.\n",
        "13.\t**Is_repeated_guest’**: Categorical- repeated guest(1) or not (0).\n",
        "14.\t**Company**: ID of the company/entity that made the booking or responsible for paying the booking.\n",
        "15.\t**Customer Type**: Categorical:\n",
        "- Contract – when the booking has an allotment or other type of contract\n",
        "associated to it\n",
        "- Group – when the booking is associated to a group;\n",
        "- Transient – when the bookings is not part of a group or contract, and is not associated to other transient booking;\n",
        "- Transient party – when the booking is transient to at least other transient booking.\n",
        "16.\t**Market_segment**: Market segment designation.\n",
        "17.\t**Previous_cancellations**: Number of previous bookings that were cancelled by the customer prior to the current booking.\n",
        "18.\t**Required_car_parking_spaces**: Number of car parking spaces required by the customer.\n",
        "19.\t**Reservation_status**: Categorical:\n",
        "- Cancelled – booking was cancelled by the customer.\n",
        "- Check Out – customer has checked in but already departed.\n",
        "- No Show – customer did not check in and did inform the hotel of the reason why.\n",
        "20.\t**Reservation_status_date**: Date at which the last status was set. This variable can be used in conjunction with the Reservation Status to understand when was the booking canceled or when did the customer checked-out of the hotel.\n",
        "21.\t**Reserved_room_type**: Code of room type reserved.\n",
        "22.\t**Types_of_special_requests**: Number of special requests made by the customer (e.g. Twin bed or high floor)\n",
        "23.\t**Stays_in_weekend_nights**, **Stays_in_week_nights**: Number of weekend nights and week nights the guest stayed or booked to stay at the hotel.\n"
      ],
      "metadata": {
        "id": "aJV4KIxSnxay"
      }
    },
    {
      "cell_type": "markdown",
      "source": [
        "### Check Unique Values for each variable."
      ],
      "metadata": {
        "id": "u3PMJOP6ngxN"
      }
    },
    {
      "cell_type": "code",
      "source": [
        "# Checking Unique Values for each variable.\n",
        "\n",
        "hotel_booking_df['hotel'].unique()"
      ],
      "metadata": {
        "id": "zms12Yq5n-jE",
        "colab": {
          "base_uri": "https://localhost:8080/"
        },
        "outputId": "70c01f2b-ed44-4dc4-dbea-9d1ea150cafb"
      },
      "execution_count": null,
      "outputs": [
        {
          "output_type": "execute_result",
          "data": {
            "text/plain": [
              "array(['Resort Hotel', 'City Hotel'], dtype=object)"
            ]
          },
          "metadata": {},
          "execution_count": 497
        }
      ]
    },
    {
      "cell_type": "code",
      "source": [
        "hotel_booking_df['is_canceled'].unique()"
      ],
      "metadata": {
        "id": "QIl60lMnOuRS",
        "colab": {
          "base_uri": "https://localhost:8080/"
        },
        "outputId": "194ff87c-d0f1-4824-ac1d-6d9f2a16d8dd"
      },
      "execution_count": null,
      "outputs": [
        {
          "output_type": "execute_result",
          "data": {
            "text/plain": [
              "array([0, 1])"
            ]
          },
          "metadata": {},
          "execution_count": 498
        }
      ]
    },
    {
      "cell_type": "code",
      "source": [
        "hotel_booking_df['arrival_date_year'].unique()"
      ],
      "metadata": {
        "id": "nIJYgAlLO64f",
        "colab": {
          "base_uri": "https://localhost:8080/"
        },
        "outputId": "044a5946-8263-4231-e055-bec7b5a9e0d1"
      },
      "execution_count": null,
      "outputs": [
        {
          "output_type": "execute_result",
          "data": {
            "text/plain": [
              "array([2015, 2016, 2017])"
            ]
          },
          "metadata": {},
          "execution_count": 499
        }
      ]
    },
    {
      "cell_type": "code",
      "source": [
        "hotel_booking_df['meal'].unique()"
      ],
      "metadata": {
        "id": "7w7sNtXgPByn",
        "colab": {
          "base_uri": "https://localhost:8080/"
        },
        "outputId": "abc51aa6-3850-4f4b-8bec-f1b5ef4be732"
      },
      "execution_count": null,
      "outputs": [
        {
          "output_type": "execute_result",
          "data": {
            "text/plain": [
              "array(['BB', 'FB', 'HB', 'SC', 'Undefined'], dtype=object)"
            ]
          },
          "metadata": {},
          "execution_count": 500
        }
      ]
    },
    {
      "cell_type": "code",
      "source": [
        "hotel_booking_df['market_segment'].unique()"
      ],
      "metadata": {
        "id": "UoDmSe9DPJWH",
        "colab": {
          "base_uri": "https://localhost:8080/"
        },
        "outputId": "c2958d14-1562-4b33-825f-dd9941156df1"
      },
      "execution_count": null,
      "outputs": [
        {
          "output_type": "execute_result",
          "data": {
            "text/plain": [
              "array(['Direct', 'Corporate', 'Online TA', 'Offline TA/TO',\n",
              "       'Complementary', 'Groups', 'Undefined', 'Aviation'], dtype=object)"
            ]
          },
          "metadata": {},
          "execution_count": 501
        }
      ]
    },
    {
      "cell_type": "code",
      "source": [
        "hotel_booking_df['distribution_channel'].unique()"
      ],
      "metadata": {
        "id": "RwaIyd-TPWUx",
        "colab": {
          "base_uri": "https://localhost:8080/"
        },
        "outputId": "1c67cdd9-31a1-44cd-a771-9694e1168edb"
      },
      "execution_count": null,
      "outputs": [
        {
          "output_type": "execute_result",
          "data": {
            "text/plain": [
              "array(['Direct', 'Corporate', 'TA/TO', 'Undefined', 'GDS'], dtype=object)"
            ]
          },
          "metadata": {},
          "execution_count": 502
        }
      ]
    },
    {
      "cell_type": "code",
      "source": [
        "hotel_booking_df['children'].unique()"
      ],
      "metadata": {
        "id": "td4pZE9UaMhu",
        "colab": {
          "base_uri": "https://localhost:8080/"
        },
        "outputId": "bac101f0-36c7-402e-9982-d6d6a318aa24"
      },
      "execution_count": null,
      "outputs": [
        {
          "output_type": "execute_result",
          "data": {
            "text/plain": [
              "array([ 0.        ,  1.        ,  2.        , 10.        ,  3.        ,\n",
              "        0.13863969])"
            ]
          },
          "metadata": {},
          "execution_count": 503
        }
      ]
    },
    {
      "cell_type": "markdown",
      "source": [
        "## 3. ***Data Wrangling***"
      ],
      "metadata": {
        "id": "dauF4eBmngu3"
      }
    },
    {
      "cell_type": "markdown",
      "source": [
        "1. Converting datatype of columns 'children', 'company' and 'agent' from float to int."
      ],
      "metadata": {
        "id": "77rGDdEh3JLb"
      }
    },
    {
      "cell_type": "code",
      "source": [
        "# Write your code to make your dataset analysis ready.\n",
        "\n",
        "hotel_booking_df[['children', 'company', 'agent']] = hotel_booking_df[['children', 'company', 'agent']].astype('int64')"
      ],
      "metadata": {
        "id": "wk-9a2fpoLcV"
      },
      "execution_count": null,
      "outputs": []
    },
    {
      "cell_type": "markdown",
      "source": [
        "2. Changing datatype of column 'reservation_status_date' to data_type."
      ],
      "metadata": {
        "id": "lU5IjcOQ3WF0"
      }
    },
    {
      "cell_type": "code",
      "source": [
        "hotel_booking_df['reservation_status_date'] = pd.to_datetime(hotel_booking_df['reservation_status_date'], format='%d-%m-%Y')"
      ],
      "metadata": {
        "id": "YMzP60tpdDs2"
      },
      "execution_count": null,
      "outputs": []
    },
    {
      "cell_type": "markdown",
      "source": [
        "3. Adding total staying days in hotels"
      ],
      "metadata": {
        "id": "xfAkD7nw3lqm"
      }
    },
    {
      "cell_type": "code",
      "source": [
        "hotel_booking_df['total_stay'] = hotel_booking_df['stays_in_weekend_nights']+hotel_booking_df['stays_in_week_nights']"
      ],
      "metadata": {
        "id": "t9TVfQaCbfCL"
      },
      "execution_count": null,
      "outputs": []
    },
    {
      "cell_type": "markdown",
      "source": [
        "4. Adding total people num as column, such as. total people num = num of adults + children + babies"
      ],
      "metadata": {
        "id": "EuANbW9b3wGP"
      }
    },
    {
      "cell_type": "code",
      "source": [
        "hotel_booking_df['total_people'] = hotel_booking_df['adults']+hotel_booking_df['children']+hotel_booking_df['babies']"
      ],
      "metadata": {
        "id": "-c39lXOkdRPN"
      },
      "execution_count": null,
      "outputs": []
    },
    {
      "cell_type": "markdown",
      "source": [
        "5. Adding total staying days in hotels"
      ],
      "metadata": {
        "id": "7rnQX1LV36fH"
      }
    },
    {
      "cell_type": "code",
      "source": [
        "hotel_booking_df['total_stay'] = hotel_booking_df['stays_in_weekend_nights']+hotel_booking_df['stays_in_week_nights']"
      ],
      "metadata": {
        "id": "fcQyT4MJ3_2u"
      },
      "execution_count": null,
      "outputs": []
    },
    {
      "cell_type": "markdown",
      "source": [
        "6. Adding total people num as column, i.e. total people num = num of adults + children + babies"
      ],
      "metadata": {
        "id": "XkFn9RTY4GNZ"
      }
    },
    {
      "cell_type": "code",
      "source": [
        "hotel_booking_df['total_people'] = hotel_booking_df['adults']+hotel_booking_df['children']+hotel_booking_df['babies']"
      ],
      "metadata": {
        "id": "rUr9jaLHdoCT"
      },
      "execution_count": null,
      "outputs": []
    },
    {
      "cell_type": "markdown",
      "source": [
        "We are adding this column so  we can analyse the stay length at hotels."
      ],
      "metadata": {
        "id": "aNBO4VcugVqh"
      }
    }
  ]
}