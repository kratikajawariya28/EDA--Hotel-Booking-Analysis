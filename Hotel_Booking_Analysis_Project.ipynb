{
  "nbformat": 4,
  "nbformat_minor": 0,
  "metadata": {
    "colab": {
      "provenance": [],
      "collapsed_sections": [
        "vncDsAP0Gaoa",
        "FJNUwmbgGyua",
        "w6K7xa23Elo4",
        "yQaldy8SH6Dl",
        "PH-0ReGfmX4f",
        "mDgbUHAGgjLW",
        "HhfV-JJviCcP",
        "Y3lxredqlCYt",
        "3RnN4peoiCZX",
        "x71ZqKXriCWQ",
        "7hBIi_osiCS2",
        "JlHwYmJAmNHm",
        "H0kj-8xxnORC",
        "nA9Y7ga8ng1Z",
        "PBTbrJXOngz2",
        "u3PMJOP6ngxN",
        "MSa1f5Uengrz",
        "0wOQAZs5pc--",
        "K5QZ13OEpz2H",
        "lQ7QKXXCp7Bj",
        "448CDAPjqfQr",
        "XU_pKA2zZzy4",
        "-3iuitrW8aTG",
        "fge-S5ZAYoAp",
        "85gYPyotYoAp",
        "RoGjAbkUYoAp",
        "4Of9eVA-YrdM",
        "iky9q4vBYrdO",
        "F6T5p64dYrdO",
        "y-Ehk30pYrdP",
        "bamQiAODYuh1",
        "QHF8YVU7Yuh3",
        "GwzvFGzlYuh3",
        "E25UnU4qu5Zn",
        "bbFf2-_FphqN",
        "_ouA3fa0phqN",
        "Seke61FWphqN",
        "zVMT8nm8vXX9",
        "t27r6nlMphqO",
        "r2jJGEOYphqO",
        "b0JNsNcRphqO",
        "jNsq-u4Rvrno",
        "jj7wYXLtphqO",
        "eZrbJ2SmphqO",
        "rFu4xreNphqO",
        "7ntM-gokv9YK",
        "JpbsK6JswZ3Q",
        "wHB9ulL3woct",
        "Ir1Zf-2YxVnO",
        "ylSl6qgtp1ck",
        "ZWILFDl5p1ck",
        "M7G43BXep1ck",
        "5zmkG6c5yfHw",
        "lkY7W0Nl378u",
        "_ID-pOf8csdQ",
        "ei2CMnip-uWV",
        "Elihbh8QmKXL",
        "SQO1vfhXf_yP",
        "7zfVkXqMmydN",
        "k4qKMepbg77d",
        "vSdl5tL0g8tV",
        "yAsiUg9bg9zE",
        "Wvh1IUDOnVV-",
        "VixrJyjZiGyd",
        "9vtrrrw8iHwP",
        "L6aa4GgPikOt",
        "svxFxYQ7amtt",
        "5mxo6qn1cde-",
        "-lNvdWEgchKs",
        "le0K57wui_z0",
        "hm1MYplgjlXH",
        "7IGATvoQjqP9",
        "dB3451bZhoTy",
        "6-4d1cGIhAnW",
        "csP0F2tJpG2M",
        "b_ca-FkAltV_",
        "Vy2VFZgtoWaF",
        "DjXHG1-FoUjm",
        "lX2IsYn3oW9i",
        "bmI1zblbpg30",
        "AVdhNC3yqPvp",
        "lj-lFYvRqXxH",
        "HgQrIuy5jKXq",
        "N5Y8VDVqj05i",
        "Se7X7O9nqHW7",
        "K4FLOXX2k-4Z",
        "xBghnNeGmRO1",
        "Oh2GasuhBRGE",
        "TJzYzMFPBXem",
        "nepeKchdr-x9",
        "q29F0dvdveiT",
        "EXh0U9oCveiU",
        "22aHeOlLveiV",
        "p46J6Yy_FXfa",
        "8G2x9gOozGDZ",
        "gCX9965dhzqZ"
      ]
    },
    "kernelspec": {
      "name": "python3",
      "display_name": "Python 3"
    },
    "language_info": {
      "name": "python"
    }
  },
  "cells": [
    {
      "cell_type": "markdown",
      "source": [
        "# **Project Name**    - Hotel booking analysis\n",
        "\n"
      ],
      "metadata": {
        "id": "vncDsAP0Gaoa"
      }
    },
    {
      "cell_type": "markdown",
      "source": [
        "##### **Project Type**    - EDA\n",
        "##### **Contribution**    - Team -Almaknight\n",
        "##### **Team Member 1 -** Kratika sharma\n",
        "##### **Team Member 2 -** Pranita tiwari\n",
        "##### **Team Member 3 -** Dharmendra Yadav\n"
      ],
      "metadata": {
        "id": "beRrZCGUAJYm"
      }
    },
    {
      "cell_type": "markdown",
      "source": [
        "# **Project Summary**"
      ],
      "metadata": {
        "id": "FJNUwmbgGyua"
      }
    },
    {
      "cell_type": "markdown",
      "source": [
        "The hotel booking analysis focused on exploring various aspects of hotel bookings, including customer demographics, booking patterns, distribution channels, cancellations, revenue generation, and seasonal trends. By examining the provided charts and insights, we can draw valuable conclusions and understand their potential impact on the business.\n",
        "\n",
        "**Customer Demographics:**\n",
        "\n",
        "The analysis included factors such as customer nationality, market segments, and customer types (transient, contract, group). These insights can help tailor marketing strategies and target specific customer segments effectively.\n",
        "Booking Patterns:\n",
        "\n",
        "Understanding booking patterns, such as lead time, booking duration, and booking changes, provides insights into customer behavior and preferences. This information can guide revenue management strategies and optimize booking processes.\n",
        "\n",
        "**Distribution Channels:**\n",
        "\n",
        "The analysis examined different distribution channels, including online travel agents (OTA), direct bookings, and global distribution systems (GDS). Insights on revenue generation and booking cancellations from various channels can help hotels optimize their distribution strategies and improve revenue streams.\n",
        "\n",
        "**Cancellations:**\n",
        "\n",
        "The analysis delved into the reasons behind booking cancellations, exploring factors such as waiting time, lead time, and room type allocation. Identifying significant cancellation percentages for specific distribution channels (e.g., OTA) highlights areas for improvement and potential revenue loss.\n",
        "\n",
        "**Revenue Generation:**\n",
        "\n",
        "The analysis compared average daily rates (ADR) for different hotels, distribution channels, and months. Understanding revenue generation patterns can assist in pricing strategies, optimizing channel mix, and capitalizing on high-demand periods.\n",
        "\n",
        "**Seasonal Trends:**\n",
        "\n",
        "The analysis uncovered seasonal trends in terms of the number of guests, revenue, and ADR. Identifying peak months, such as August, can help hotels allocate resources effectively, manage staff levels, and tailor marketing campaigns to maximize occupancy and revenue during these periods.\n",
        "The gained insights can positively impact the business in several ways:\n",
        "\n",
        "**Data-Driven Decision-Making:**\n",
        "\n",
        "By leveraging the insights from the analysis, hotels can make informed decisions based on data, enabling them to optimize pricing strategies, allocate resources effectively, and improve overall operational efficiency.\n",
        "Revenue Management:\n",
        "\n",
        "Understanding the factors influencing revenue generation, such as distribution channels and seasonal trends, empowers hotels to implement effective revenue management strategies. This includes adjusting pricing, managing inventory, and targeting specific customer segments to maximize revenue potential.\n",
        "\n",
        "**Enhanced Customer Experience:**\n",
        "\n",
        "The analysis of customer demographics and booking patterns provides valuable insights into customer preferences and behaviors. Hotels can use this information to tailor their services, improve guest experiences, and build customer loyalty.\n",
        "\n",
        "**Marketing and Distribution Optimization:**\n",
        "\n",
        "Insights on distribution channel performance, cancellation rates, and revenue generation can guide hotels in optimizing their marketing and distribution strategies. This may involve strengthening partnerships with high-performing channels, improving outreach on underperforming channels, and addressing cancellation issues through targeted measures.\n",
        "\n",
        "**Competitive Advantage:**\n",
        "\n",
        "Utilizing data-driven insights allows hotels to gain a competitive edge in the market. By understanding customer preferences, optimizing pricing, and aligning marketing efforts with seasonal trends, hotels can position themselves strategically to attract more guests and achieve higher revenue compared to their competitors.\n",
        "\n",
        "While the analysis provided valuable insights, it is essential to continuously monitor and update the analysis based on changing market dynamics and evolving customer behaviors. Additionally, integrating external data sources, such as market trends and competitor analysis, can further enhance the depth and accuracy of the analysis.\n",
        "\n",
        "**In conclusion**, the hotel booking analysis provides a comprehensive understanding of customer behavior, revenue generation patterns, and seasonal trends. By leveraging these insights, hotels can make data-driven decisions, optimize their operations, and create a positive business impact by improving revenue, enhancing customer experiences, and gaining a competitive advantage in the market."
      ],
      "metadata": {
        "id": "ouNZgnfSG7jh"
      }
    },
    {
      "cell_type": "markdown",
      "source": [
        "# **GitHub Link -**"
      ],
      "metadata": {
        "id": "w6K7xa23Elo4"
      }
    },
    {
      "cell_type": "markdown",
      "source": [
        "Provide your GitHub Link here."
      ],
      "metadata": {
        "id": "h1o69JH3Eqqn"
      }
    },
    {
      "cell_type": "markdown",
      "source": [
        "# **Problem Statement**\n"
      ],
      "metadata": {
        "id": "yQaldy8SH6Dl"
      }
    },
    {
      "cell_type": "markdown",
      "source": [
        "**Write Problem Statement Here.**\n",
        "\n",
        "\n",
        "Performed EDA and tried answering the following questions:\n",
        "\n",
        "\n",
        "  Q1) Which agent makes the most no. of bookings?\n",
        "\n",
        " Q2) Which room type is in most demand and which room type generates the highest ADR?\n",
        "\n",
        " Q3) Which meal type is the most preferred meal for customers?\n",
        "\n",
        " Q4) What is the percentage of bookings in each hotel?\n",
        "\n",
        " Q5) Which is the most common channel for booking hotels?\n",
        "\n",
        " Q6) Which are the busiest months?\n",
        "\n",
        " Q7) From which country most of the guests are coming?\n",
        "\n",
        " Q8) How long do people stay at the hotels?\n",
        "\n",
        " Q9) Which hotel seems to make more revenue?\n",
        "\n",
        " Q10) Which hotel has a higher lead time?\n",
        "\n",
        " Q11) What is the preferred stay length in each hotel?\n",
        "\n",
        " Q12) Which hotel has a higher bookings cancellation rate?\n",
        "\n",
        " Q13) Which hotel has a high chance that its customer will return for another stay?\n",
        "\n",
        " Q14) Which channel is mostly used for the early booking of hotels?\n",
        "\n",
        " Q15) Which channel has a longer average waiting time?\n",
        "\n",
        " Q16) Which distribution channel brings better revenue-generating deals for hotels?\n",
        "\n",
        " Q17) Which significant distribution channel has the highest cancellation percentage?\n",
        "\n",
        " Q18) Does a longer waiting period or longer-lead time causes the cancellation of bookings?\n",
        "\n",
        " Q19) Whether not getting allotted the same room type as demand the main cause of cancellation for bookings?\n",
        "\n",
        " Q20) Does not allowing the same room as demanded to affect ADR?\n",
        "\n"
      ],
      "metadata": {
        "id": "DpeJGUA3kjGy"
      }
    },
    {
      "cell_type": "markdown",
      "source": [
        "#### **Define Your Business Objective?**"
      ],
      "metadata": {
        "id": "PH-0ReGfmX4f"
      }
    },
    {
      "cell_type": "markdown",
      "source": [
        "The objective of this project is to perform an EDA on the hotel booking dataset to gain some insights which will be helpful in understanding the patterns and trends in booking analysis, cancellation analysis, Revenue analysis, customer segmentation and competitive analysis. The valuable insights gained will be helpful in improving operational efficiency, better financial management, increasing revenue, and supporting data-driven decision-making and competitive positioning."
      ],
      "metadata": {
        "id": "PhDvGCAqmjP1"
      }
    },
    {
      "cell_type": "markdown",
      "source": [
        "# **General Guidelines** : -"
      ],
      "metadata": {
        "id": "mDgbUHAGgjLW"
      }
    },
    {
      "cell_type": "markdown",
      "source": [
        "1.   Well-structured, formatted, and commented code is required.\n",
        "2.   Exception Handling, Production Grade Code & Deployment Ready Code will be a plus. Those students will be awarded some additional credits.\n",
        "\n",
        "     The additional credits will have advantages over other students during Star Student selection.\n",
        "\n",
        "             [ Note: - Deployment Ready Code is defined as, the whole .ipynb notebook should be executable in one go\n",
        "                       without a single error logged. ]\n",
        "\n",
        "3.   Each and every logic should have proper comments.\n",
        "4. You may add as many number of charts you want. Make Sure for each and every chart the following format should be answered.\n",
        "\n",
        "\n",
        "```\n",
        "# Chart visualization code\n",
        "```\n",
        "\n",
        "\n",
        "*   Why did you pick the specific chart?\n",
        "*   What is/are the insight(s) found from the chart?\n",
        "* Will the gained insights help creating a positive business impact?\n",
        "Are there any insights that lead to negative growth? Justify with specific reason.\n",
        "\n",
        "5. You have to create at least 20 logical & meaningful charts having important insights.\n",
        "\n",
        "\n",
        "[ Hints : - Do the Vizualization in  a structured way while following \"UBM\" Rule.\n",
        "\n",
        "U - Univariate Analysis,\n",
        "\n",
        "B - Bivariate Analysis (Numerical - Categorical, Numerical - Numerical, Categorical - Categorical)\n",
        "\n",
        "M - Multivariate Analysis\n",
        " ]\n",
        "\n",
        "\n",
        "\n"
      ],
      "metadata": {
        "id": "ZrxVaUj-hHfC"
      }
    },
    {
      "cell_type": "markdown",
      "source": [
        "# ***Let's Begin !***"
      ],
      "metadata": {
        "id": "O_i_v8NEhb9l"
      }
    },
    {
      "cell_type": "markdown",
      "source": [
        "## ***1. Know Your Data***"
      ],
      "metadata": {
        "id": "HhfV-JJviCcP"
      }
    },
    {
      "cell_type": "markdown",
      "source": [
        "### Import Libraries"
      ],
      "metadata": {
        "id": "Y3lxredqlCYt"
      }
    },
    {
      "cell_type": "code",
      "source": [
        "# Importing Python Libraries\n",
        "\n",
        "import numpy as np\n",
        "import pandas as pd\n",
        "import matplotlib\n",
        "import matplotlib.pyplot as plt\n",
        "import seaborn as sns\n",
        "import folium\n",
        "import plotly.express as px\n",
        "%matplotlib inline"
      ],
      "metadata": {
        "id": "M8Vqi-pPk-HR"
      },
      "execution_count": null,
      "outputs": []
    },
    {
      "cell_type": "code",
      "source": [
        "# Mounting drive\n",
        "\n",
        "from google.colab import drive\n",
        "drive.mount('/content/drive')"
      ],
      "metadata": {
        "id": "wihYe1Wy_kqc",
        "colab": {
          "base_uri": "https://localhost:8080/"
        },
        "outputId": "795445a9-6e6f-4c4f-fe5f-3458b19b14a7"
      },
      "execution_count": null,
      "outputs": [
        {
          "output_type": "stream",
          "name": "stdout",
          "text": [
            "Mounted at /content/drive\n"
          ]
        }
      ]
    },
    {
      "cell_type": "markdown",
      "source": [
        "### Dataset Loading"
      ],
      "metadata": {
        "id": "3RnN4peoiCZX"
      }
    },
    {
      "cell_type": "code",
      "source": [
        "# Loading  Dataset and storing in dataframe\n",
        "\n",
        "file_path = '/content/Hotel Bookings.csv'\n",
        "hotel_booking_df = pd.read_csv(file_path)"
      ],
      "metadata": {
        "id": "4CkvbW_SlZ_R"
      },
      "execution_count": null,
      "outputs": []
    },
    {
      "cell_type": "markdown",
      "source": [
        "### Dataset First View"
      ],
      "metadata": {
        "id": "x71ZqKXriCWQ"
      }
    },
    {
      "cell_type": "code",
      "source": [
        "# Dataset First Look\n",
        "\n",
        "hotel_booking_df"
      ],
      "metadata": {
        "id": "LWNFOSvLl09H"
      },
      "execution_count": null,
      "outputs": []
    },
    {
      "cell_type": "markdown",
      "source": [
        "### Dataset Rows & Columns count"
      ],
      "metadata": {
        "id": "7hBIi_osiCS2"
      }
    },
    {
      "cell_type": "code",
      "source": [
        "# Dataset Rows & Columns count\n",
        "\n",
        "hotel_booking_df.shape"
      ],
      "metadata": {
        "id": "Kllu7SJgmLij"
      },
      "execution_count": null,
      "outputs": []
    },
    {
      "cell_type": "markdown",
      "source": [
        "### Dataset Information"
      ],
      "metadata": {
        "id": "JlHwYmJAmNHm"
      }
    },
    {
      "cell_type": "code",
      "source": [
        "# Dataset Info\n",
        "\n",
        "hotel_booking_df.info"
      ],
      "metadata": {
        "id": "e9hRXRi6meOf"
      },
      "execution_count": null,
      "outputs": []
    },
    {
      "cell_type": "markdown",
      "source": [
        "Data cleaning is an essential pre-EDA step that eliminates ambiguous data affecting EDA outcomes. It involves removing duplicates, addressing missing values, converting columns to appropriate types, and adding relevant columns."
      ],
      "metadata": {
        "id": "fsVwjY4nBBd9"
      }
    },
    {
      "cell_type": "markdown",
      "source": [
        "#### Duplicate Values"
      ],
      "metadata": {
        "id": "35m5QtbWiB9F"
      }
    },
    {
      "cell_type": "code",
      "source": [
        "# Dataset Duplicate Value Count\n",
        "\n",
        "hotel_booking_df[hotel_booking_df.duplicated()].shape  ## checking duplicate rows"
      ],
      "metadata": {
        "id": "1sLdpKYkmox0"
      },
      "execution_count": null,
      "outputs": []
    },
    {
      "cell_type": "code",
      "source": [
        "# Dropping duplicate value\n",
        "\n",
        "hotel_booking_df.drop_duplicates(inplace = True)"
      ],
      "metadata": {
        "id": "i_MWBldBBnOY"
      },
      "execution_count": null,
      "outputs": []
    },
    {
      "cell_type": "code",
      "source": [
        "# checking shape\n",
        "\n",
        "hotel_booking_df.shape"
      ],
      "metadata": {
        "id": "VNXhjUILCEmX"
      },
      "execution_count": null,
      "outputs": []
    },
    {
      "cell_type": "markdown",
      "source": [
        "#### Missing Values/Null Values"
      ],
      "metadata": {
        "id": "PoPl-ycgm1ru"
      }
    },
    {
      "cell_type": "code",
      "source": [
        "# Missing Values/Null Values Count\n",
        "\n",
        "hotel_booking_df.isnull().sum().sort_values(ascending = False)[:6]"
      ],
      "metadata": {
        "id": "GgHWkxvamxVg"
      },
      "execution_count": null,
      "outputs": []
    },
    {
      "cell_type": "code",
      "source": [
        "# Visualizing the missing values\n",
        "\n",
        "fig,axes = plt.subplots(1,1,figsize=(20,10))\n",
        "sns.heatmap(hotel_booking_df.isna())\n",
        "plt.show()"
      ],
      "metadata": {
        "id": "3q5wnI3om9sJ"
      },
      "execution_count": null,
      "outputs": []
    },
    {
      "cell_type": "markdown",
      "source": [
        "We will replace null values by 0 in these columns"
      ],
      "metadata": {
        "id": "mMtsEHfrD42n"
      }
    },
    {
      "cell_type": "code",
      "source": [
        "hotel_booking_df[['company','agent']] = hotel_booking_df[['company','agent']].fillna(0)"
      ],
      "metadata": {
        "id": "vnh_LvAJD3Kj"
      },
      "execution_count": null,
      "outputs": []
    },
    {
      "cell_type": "code",
      "source": [
        "hotel_booking_df['children'].unique()"
      ],
      "metadata": {
        "id": "x646V9-eEZZA"
      },
      "execution_count": null,
      "outputs": []
    },
    {
      "cell_type": "markdown",
      "source": [
        "In this column 'children' has 0 as a value which means 0 children were present in the group of customers who made that transaction.So, 'nan' values are the missing values due to errors in recording data.Now we are going to replace the null values under this column with the mean value of children."
      ],
      "metadata": {
        "id": "cgDK11K2FL3S"
      }
    },
    {
      "cell_type": "code",
      "source": [
        "hotel_booking_df['children'].fillna(hotel_booking_df['children'].mean(), inplace = True)"
      ],
      "metadata": {
        "id": "YH8_5JOWFrHN"
      },
      "execution_count": null,
      "outputs": []
    },
    {
      "cell_type": "markdown",
      "source": [
        "The next column with the missing value is 'country'. This column represents the country of origin of the customer.Since this column has a datatype of the string. We will replace the missing value with the mode of the 'country' column.\n"
      ],
      "metadata": {
        "id": "c9riAslzGLoD"
      }
    },
    {
      "cell_type": "code",
      "source": [
        "hotel_booking_df['country'].fillna('others', inplace = True)"
      ],
      "metadata": {
        "id": "bWwOWK6-K1gb"
      },
      "execution_count": null,
      "outputs": []
    },
    {
      "cell_type": "code",
      "source": [
        "# Checking if all null values are removed\n",
        "\n",
        "hotel_booking_df.isnull().sum().sort_values(ascending = False)[:6]"
      ],
      "metadata": {
        "id": "6ua5YHZYK4p1"
      },
      "execution_count": null,
      "outputs": []
    },
    {
      "cell_type": "markdown",
      "source": [
        "In the dataset some rows with total number of adults, children or babies equal to zero. So we will remove such rows."
      ],
      "metadata": {
        "id": "GJn02qc7LsEx"
      }
    },
    {
      "cell_type": "code",
      "source": [
        "hotel_booking_df[hotel_booking_df['adults']+hotel_booking_df['babies']+hotel_booking_df['children'] == 0].shape"
      ],
      "metadata": {
        "id": "JQ17peH7LVOY"
      },
      "execution_count": null,
      "outputs": []
    },
    {
      "cell_type": "code",
      "source": [
        "hotel_booking_df.drop(hotel_booking_df[hotel_booking_df['adults']+hotel_booking_df['babies']+hotel_booking_df['children'] == 0].index, inplace = True)"
      ],
      "metadata": {
        "id": "XNpNHMkqLXU_"
      },
      "execution_count": null,
      "outputs": []
    },
    {
      "cell_type": "markdown",
      "source": [
        "### What did you know about your dataset?"
      ],
      "metadata": {
        "id": "H0kj-8xxnORC"
      }
    },
    {
      "cell_type": "markdown",
      "source": [
        "Till now I get know that this data have rows 119390 and columns 32 and I was able to identify there are lots of duplicate missing and null value are there."
      ],
      "metadata": {
        "id": "gfoNAAC-nUe_"
      }
    },
    {
      "cell_type": "markdown",
      "source": [
        "## ***2. Understanding Your Variables***"
      ],
      "metadata": {
        "id": "nA9Y7ga8ng1Z"
      }
    },
    {
      "cell_type": "code",
      "source": [
        "# Dataset Columns\n",
        "\n",
        "hotel_booking_df.columns"
      ],
      "metadata": {
        "id": "j7xfkqrt5Ag5"
      },
      "execution_count": null,
      "outputs": []
    },
    {
      "cell_type": "code",
      "source": [
        "# Dataset Describe\n",
        "\n",
        "hotel_booking_df.describe()"
      ],
      "metadata": {
        "id": "DnOaZdaE5Q5t"
      },
      "execution_count": null,
      "outputs": []
    },
    {
      "cell_type": "markdown",
      "source": [
        "### Variables Description"
      ],
      "metadata": {
        "id": "PBTbrJXOngz2"
      }
    },
    {
      "cell_type": "markdown",
      "source": [
        "1. **hotel**: Categorical - Resort hotel or city hotel.\n",
        "2.\t**is_canceled**: ‘1’ for booking and ‘0’  not cancelled.\n",
        "3.\t**lead_time**: Period between time of booking and checking in (considered in days here).\n",
        "4.\t**arrival_date_month**: Arrival month\n",
        "5.\t**country**: Country of origin. List of 158 countries.\n",
        "6.\t**days_in_waiting_list**: Number of waiting days.\n",
        "7.\t**Deposit_type**: Categorical - No-deposit, Non-Refund, Refundable.\n",
        "8.\t**Adr**: Average Daily rate as defined by the average rental revenue earned for an occupied room per day.\n",
        "9.\t**Adults, Babies, Children**: Number of adults, babies and children.\n",
        "10.\t**Assigned Room Type**: Code for the type of room assigned to the booking.\n",
        "11.\t**Booking Changes**: Number of changes/amendments made to the booking from the moment the booking was entered on the PMS until the moment of check-in or cancellation.\n",
        "12.\t**Distribution_channel**: Booking distribution channel.\n",
        "13.\t**Is_repeated_guest’**: Categorical- repeated guest(1) or not (0).\n",
        "14.\t**Company**: ID of the company/entity that made the booking or responsible for paying the booking.\n",
        "15.\t**Customer Type**: Categorical:\n",
        "- Contract – when the booking has an allotment or other type of contract\n",
        "associated to it\n",
        "- Group – when the booking is associated to a group;\n",
        "- Transient – when the bookings is not part of a group or contract, and is not associated to other transient booking;\n",
        "- Transient party – when the booking is transient to at least other transient booking.\n",
        "16.\t**Market_segment**: Market segment designation.\n",
        "17.\t**Previous_cancellations**: Number of previous bookings that were cancelled by the customer prior to the current booking.\n",
        "18.\t**Required_car_parking_spaces**: Number of car parking spaces required by the customer.\n",
        "19.\t**Reservation_status**: Categorical:\n",
        "- Cancelled – booking was cancelled by the customer.\n",
        "- Check Out – customer has checked in but already departed.\n",
        "- No Show – customer did not check in and did inform the hotel of the reason why.\n",
        "20.\t**Reservation_status_date**: Date at which the last status was set. This variable can be used in conjunction with the Reservation Status to understand when was the booking canceled or when did the customer checked-out of the hotel.\n",
        "21.\t**Reserved_room_type**: Code of room type reserved.\n",
        "22.\t**Types_of_special_requests**: Number of special requests made by the customer (e.g. Twin bed or high floor)\n",
        "23.\t**Stays_in_weekend_nights**, **Stays_in_week_nights**: Number of weekend nights and week nights the guest stayed or booked to stay at the hotel.\n"
      ],
      "metadata": {
        "id": "aJV4KIxSnxay"
      }
    },
    {
      "cell_type": "markdown",
      "source": [
        "### Check Unique Values for each variable."
      ],
      "metadata": {
        "id": "u3PMJOP6ngxN"
      }
    },
    {
      "cell_type": "code",
      "source": [
        "# Checking Unique Values for each variable.\n",
        "\n",
        "hotel_booking_df['hotel'].unique()"
      ],
      "metadata": {
        "id": "zms12Yq5n-jE"
      },
      "execution_count": null,
      "outputs": []
    },
    {
      "cell_type": "code",
      "source": [
        "hotel_booking_df['is_canceled'].unique()"
      ],
      "metadata": {
        "id": "QIl60lMnOuRS"
      },
      "execution_count": null,
      "outputs": []
    },
    {
      "cell_type": "code",
      "source": [
        "hotel_booking_df['arrival_date_year'].unique()"
      ],
      "metadata": {
        "id": "nIJYgAlLO64f"
      },
      "execution_count": null,
      "outputs": []
    },
    {
      "cell_type": "code",
      "source": [
        "hotel_booking_df['meal'].unique()"
      ],
      "metadata": {
        "id": "7w7sNtXgPByn"
      },
      "execution_count": null,
      "outputs": []
    },
    {
      "cell_type": "code",
      "source": [
        "hotel_booking_df['market_segment'].unique()"
      ],
      "metadata": {
        "id": "UoDmSe9DPJWH"
      },
      "execution_count": null,
      "outputs": []
    },
    {
      "cell_type": "code",
      "source": [
        "hotel_booking_df['distribution_channel'].unique()"
      ],
      "metadata": {
        "id": "RwaIyd-TPWUx"
      },
      "execution_count": null,
      "outputs": []
    },
    {
      "cell_type": "code",
      "source": [
        "hotel_booking_df['children'].unique()"
      ],
      "metadata": {
        "id": "td4pZE9UaMhu"
      },
      "execution_count": null,
      "outputs": []
    },
    {
      "cell_type": "markdown",
      "source": [
        "##*3. Data Wrangling**"
      ],
      "metadata": {
        "id": "dauF4eBmngu3"
      }
    },
    {
      "cell_type": "markdown",
      "source": [
        "1. Converting datatype of columns 'children', 'company' and 'agent' from float to int."
      ],
      "metadata": {
        "id": "77rGDdEh3JLb"
      }
    },
    {
      "cell_type": "code",
      "source": [
        "# Write your code to make your dataset analysis ready.\n",
        "\n",
        "hotel_booking_df[['children', 'company', 'agent']] = hotel_booking_df[['children', 'company', 'agent']].astype('int64')"
      ],
      "metadata": {
        "id": "wk-9a2fpoLcV"
      },
      "execution_count": null,
      "outputs": []
    },
    {
      "cell_type": "markdown",
      "source": [
        "2. Changing datatype of column 'reservation_status_date' to data_type."
      ],
      "metadata": {
        "id": "lU5IjcOQ3WF0"
      }
    },
    {
      "cell_type": "code",
      "source": [
        "hotel_booking_df['reservation_status_date'] = pd.to_datetime(hotel_booking_df['reservation_status_date'], format='%d-%m-%Y')"
      ],
      "metadata": {
        "id": "YMzP60tpdDs2"
      },
      "execution_count": null,
      "outputs": []
    },
    {
      "cell_type": "markdown",
      "source": [
        "3. Adding total staying days in hotels"
      ],
      "metadata": {
        "id": "xfAkD7nw3lqm"
      }
    },
    {
      "cell_type": "code",
      "source": [
        "hotel_booking_df['total_stay'] = hotel_booking_df['stays_in_weekend_nights']+hotel_booking_df['stays_in_week_nights']"
      ],
      "metadata": {
        "id": "t9TVfQaCbfCL"
      },
      "execution_count": null,
      "outputs": []
    },
    {
      "cell_type": "markdown",
      "source": [
        "4. Adding total people num as column, such as. total people num = num of adults + children + babies"
      ],
      "metadata": {
        "id": "EuANbW9b3wGP"
      }
    },
    {
      "cell_type": "code",
      "source": [
        "hotel_booking_df['total_people'] = hotel_booking_df['adults']+hotel_booking_df['children']+hotel_booking_df['babies']"
      ],
      "metadata": {
        "id": "-c39lXOkdRPN"
      },
      "execution_count": null,
      "outputs": []
    },
    {
      "cell_type": "markdown",
      "source": [
        "5. Adding total staying days in hotels"
      ],
      "metadata": {
        "id": "7rnQX1LV36fH"
      }
    },
    {
      "cell_type": "code",
      "source": [
        "hotel_booking_df['total_stay'] = hotel_booking_df['stays_in_weekend_nights']+hotel_booking_df['stays_in_week_nights']"
      ],
      "metadata": {
        "id": "fcQyT4MJ3_2u"
      },
      "execution_count": null,
      "outputs": []
    },
    {
      "cell_type": "markdown",
      "source": [
        "6. Adding total people num as column, i.e. total people num = num of adults + children + babies"
      ],
      "metadata": {
        "id": "XkFn9RTY4GNZ"
      }
    },
    {
      "cell_type": "code",
      "source": [
        "hotel_booking_df['total_people'] = hotel_booking_df['adults']+hotel_booking_df['children']+hotel_booking_df['babies']"
      ],
      "metadata": {
        "id": "rUr9jaLHdoCT"
      },
      "execution_count": null,
      "outputs": []
    },
    {
      "cell_type": "markdown",
      "source": [
        "We are adding this column so  we can analyse the stay length at hotels."
      ],
      "metadata": {
        "id": "aNBO4VcugVqh"
      }
    },
    {
      "cell_type": "markdown",
      "source": [
        "### What all manipulations have you done and insights you found?"
      ],
      "metadata": {
        "id": "MSa1f5Uengrz"
      }
    },
    {
      "cell_type": "markdown",
      "source": [
        "**1. Converting data types:** The code converts the data types of the 'children', 'company', and 'agent' columns from float to int using the astype() method. This ensures that these columns contain integer values for further analysis.\n",
        "\n",
        "**2. Converting date format:** The code converts the data type of the 'reservation_status_date' column to datetime format using the pd.to_datetime() function. It specifies the format as '%Y-%m-%d' to match the original format of the dates.\n",
        "\n",
        "**3. Adding total staying days in hotels:** The code calculates the total staying days in hotels by summing the values from the 'stays_in_weekend_nights' and 'stays_in_week_nights' columns. It creates a new column named 'total_stay' to store these calculated values.\n",
        "\n",
        "**4.Adding total people count:** The code computes the total number of people (guests) by summing the values from the 'adults', 'children', and 'babies' columns. It creates a new column named 'total_people' to store the total count of people.\n",
        "\n",
        "**Insights:**\n",
        "\n",
        "1. The converted data types allow for more accurate calculations and analysis involving the 'children', 'company', and 'agent' columns.\n",
        "2. The converted 'reservation_status_date' column enables easier manipulation and analysis of date-based operations.\n",
        "3. The newly created 'total_stay' column provides a consolidated view of the total duration of stays in hotels.\n",
        "4. The 'total_people' column offers insights into the overall count of guests for each booking.\n"
      ],
      "metadata": {
        "id": "LbyXE7I1olp8"
      }
    },
    {
      "cell_type": "markdown",
      "source": [
        "## ***4. Data Vizualization, Storytelling & Experimenting with charts : Understand the relationships between variables***"
      ],
      "metadata": {
        "id": "GF8Ens_Soomf"
      }
    },
    {
      "cell_type": "markdown",
      "source": [
        "#### **Correlation heatmap**"
      ],
      "metadata": {
        "id": "0wOQAZs5pc--"
      }
    },
    {
      "cell_type": "markdown",
      "source": [
        "Checking Correlation between variables"
      ],
      "metadata": {
        "id": "-uOP0VP3636N"
      }
    },
    {
      "cell_type": "code",
      "source": [
        "# visualization code\n",
        "\n",
        "num_hotel_booking_df = hotel_booking_df[['lead_time','previous_cancellations','previous_bookings_not_canceled','booking_changes','days_in_waiting_list','adr','required_car_parking_spaces','total_of_special_requests','total_stay','total_people']]\n"
      ],
      "metadata": {
        "id": "7v_ESjsspbW7"
      },
      "execution_count": null,
      "outputs": []
    },
    {
      "cell_type": "code",
      "source": [
        "# correlation matrix\n",
        "\n",
        "corrmat = num_hotel_booking_df.corr()\n",
        "f, ax = plt.subplots(figsize=(12, 7))\n",
        "sns.heatmap(corrmat,annot = True,fmt='.2f', annot_kws={'size': 10},  vmax=.8, square=True);"
      ],
      "metadata": {
        "id": "evkodc9th7Qo"
      },
      "execution_count": null,
      "outputs": []
    },
    {
      "cell_type": "markdown",
      "source": [
        "##### 1. Why did you pick the specific chart?"
      ],
      "metadata": {
        "id": "K5QZ13OEpz2H"
      }
    },
    {
      "cell_type": "markdown",
      "source": [
        " It was selected because it provides a visual representation of the relationships between different variables in the hotel booking dataset. By using a heatmap, it becomes easier to identify patterns and correlations between the variables."
      ],
      "metadata": {
        "id": "XESiWehPqBRc"
      }
    },
    {
      "cell_type": "markdown",
      "source": [
        "##### 2. What is/are the insight(s) found from the chart?"
      ],
      "metadata": {
        "id": "lQ7QKXXCp7Bj"
      }
    },
    {
      "cell_type": "markdown",
      "source": [
        "- From the above heatmap, the following insights have been found:\n",
        "\n",
        "1. Total members and ADR (Average Daily Rate) are correlated with each other. The reason behind this correlation could be that a higher number of people in a booking tends to result in increased revenue.\n",
        "\n",
        "2. Total stay time and lead time also show a correlation. One possible reason for this correlation is that people who plan for longer stays tend to make their bookings earlier, resulting in a higher lead time."
      ],
      "metadata": {
        "id": "C_j1G7yiqdRP"
      }
    },
    {
      "cell_type": "markdown",
      "source": [
        "##### 3. Will the gained insights help creating a positive business impact?\n",
        "Are there any insights that lead to negative growth? Justify with specific reason."
      ],
      "metadata": {
        "id": "448CDAPjqfQr"
      }
    },
    {
      "cell_type": "markdown",
      "source": [
        "The correlation between the number of members in a booking and the Average Daily Rate (ADR) suggests that hotels can strategically adjust pricing based on the number of occupants. By offering competitive rates for smaller parties and implementing pricing strategies that capture additional value from larger groups, hotels can optimize revenue and maximize profitability.\n",
        "\n",
        "Leveraging the insight that longer stays are planned well in advance, hotels can tailor marketing campaigns to target customers who prefer extended stays. By promoting exclusive benefits, discounts, or special offers for longer bookings, hotels can attract guests who are more likely to plan ahead and stay for an extended period."
      ],
      "metadata": {
        "id": "3cspy4FjqxJW"
      }
    },
    {
      "cell_type": "markdown",
      "source": [
        "#### **Does the length of stay have an impact on the average daily rate (ADR)?**(Bivariate analysis)\n",
        "\n",
        "\n",
        "\n",
        "\n",
        "\n"
      ],
      "metadata": {
        "id": "XU_pKA2zZzy4"
      }
    },
    {
      "cell_type": "code",
      "source": [
        "#  visualization code\n",
        "\n",
        "plt.figure(figsize = (12,6))\n",
        "sns.scatterplot(y = 'adr', x = 'total_stay', data = hotel_booking_df)\n",
        "plt.show()"
      ],
      "metadata": {
        "id": "yO1G4IIXrpLe"
      },
      "execution_count": null,
      "outputs": []
    },
    {
      "cell_type": "markdown",
      "source": [
        "We notice that there is an outlier in adr, so we will remove that for better scatter plot"
      ],
      "metadata": {
        "id": "1OHFvaJPsHO-"
      }
    },
    {
      "cell_type": "markdown",
      "source": [
        "**Removing outlier**"
      ],
      "metadata": {
        "id": "KSlN3yHqYklG"
      }
    },
    {
      "cell_type": "code",
      "source": [
        "# Dropping the row which has adr more than 5000\n",
        "hotel_booking_df.drop(hotel_booking_df[hotel_booking_df['adr'] > 5000].index, inplace = True)"
      ],
      "metadata": {
        "id": "R4YgtaqtYklH"
      },
      "execution_count": null,
      "outputs": []
    },
    {
      "cell_type": "code",
      "source": [
        "plt.figure(figsize = (12,6))\n",
        "sns.scatterplot(y = 'adr', x = 'total_stay', data = hotel_booking_df)\n",
        "plt.show()"
      ],
      "metadata": {
        "id": "dIaEUILSsS9D"
      },
      "execution_count": null,
      "outputs": []
    },
    {
      "cell_type": "markdown",
      "source": [
        "##### 1. Why did you pick the specific chart?"
      ],
      "metadata": {
        "id": "t6dVpIINYklI"
      }
    },
    {
      "cell_type": "markdown",
      "source": [
        "It was selected because a scatter plot is effective in showing the correlation between two continuous variables."
      ],
      "metadata": {
        "id": "5aaW0BYyYklI"
      }
    },
    {
      "cell_type": "markdown",
      "source": [
        "##### 2. What is/are the insight(s) found from the chart?"
      ],
      "metadata": {
        "id": "ijmpgYnKYklI"
      }
    },
    {
      "cell_type": "markdown",
      "source": [
        "The scatter plot reveals a negative correlation between the length of total stay and the ADR. As the length of stay increases, the ADR tends to decrease. This indicates that customers who stay for longer durations may be able to secure better deals in terms of a lower average daily rate."
      ],
      "metadata": {
        "id": "PSx9atu2YklI"
      }
    },
    {
      "cell_type": "markdown",
      "source": [
        "##### 3. Will the gained insights help creating a positive business impact?\n",
        "Are there any insights that lead to negative growth? Justify with specific reason."
      ],
      "metadata": {
        "id": "-JiQyfWJYklI"
      }
    },
    {
      "cell_type": "markdown",
      "source": [
        "for longer stay the better deal for customer can be finalised."
      ],
      "metadata": {
        "id": "BcBbebzrYklV"
      }
    },
    {
      "cell_type": "markdown",
      "source": [
        "#### **Which agent makes most no. of bookings?** (Univariate analysis)\n"
      ],
      "metadata": {
        "id": "-3iuitrW8aTG"
      }
    },
    {
      "cell_type": "code",
      "source": [
        "# visualization code\n",
        "\n",
        "d1 = pd.DataFrame(hotel_booking_df['agent'].value_counts()).reset_index().rename(columns = {'index':'agent','agent':'num_of_bookings'}).sort_values(by = 'num_of_bookings', ascending = False)\n",
        "d1.drop(d1[d1['agent'] == 0].index, inplace = True)            # 0 represents that booking is not made by an agent\n",
        "d1 = d1[:10]                                                   # Selecting top 10 performing agents\n",
        "plt.figure(figsize = (10,5))\n",
        "sns.barplot(x = 'agent', y = 'num_of_bookings', data = d1, order = d1.sort_values('num_of_bookings', ascending = False).agent)"
      ],
      "metadata": {
        "id": "t6GMdE67YoAp"
      },
      "execution_count": null,
      "outputs": []
    },
    {
      "cell_type": "markdown",
      "source": [
        "##### 1. Why did you pick the specific chart?"
      ],
      "metadata": {
        "id": "fge-S5ZAYoAp"
      }
    },
    {
      "cell_type": "markdown",
      "source": [
        "The bar graph provides us with information about the top 10 agents who have made the highest number of bookings."
      ],
      "metadata": {
        "id": "5dBItgRVYoAp"
      }
    },
    {
      "cell_type": "markdown",
      "source": [
        "##### 2. What is/are the insight(s) found from the chart?"
      ],
      "metadata": {
        "id": "85gYPyotYoAp"
      }
    },
    {
      "cell_type": "markdown",
      "source": [
        "Agent 9 has done the MAX number of bookings."
      ],
      "metadata": {
        "id": "4jstXR6OYoAp"
      }
    },
    {
      "cell_type": "markdown",
      "source": [
        "##### 3. Will the gained insights help creating a positive business impact?\n",
        "Are there any insights that lead to negative growth? Justify with specific reason."
      ],
      "metadata": {
        "id": "RoGjAbkUYoAp"
      }
    },
    {
      "cell_type": "markdown",
      "source": [
        "Strengthen partnerships and collaborations with high-performing agents to maximize bookings and revenue.\n",
        "Allocate resources, such as marketing efforts or incentives, towards supporting and incentivizing these top-performing agents."
      ],
      "metadata": {
        "id": "zfJ8IqMcYoAp"
      }
    },
    {
      "cell_type": "markdown",
      "source": [
        "#### **Which room type is in most demand and which room type generates highest ADR?** (Univariate / Bivariate analysis)"
      ],
      "metadata": {
        "id": "4Of9eVA-YrdM"
      }
    },
    {
      "cell_type": "code",
      "source": [
        "# visualization code\n",
        "\n",
        "fig, axes = plt.subplots(1, 2, figsize=(10, 5))\n",
        "\n",
        "grp_by_room = hotel_booking_df.groupby('assigned_room_type')\n",
        "d1['Num_of_bookings'] = grp_by_room.size()\n",
        "\n",
        "sns.countplot(ax = axes[0], x = hotel_booking_df['assigned_room_type'])\n",
        "sns.boxplot(ax = axes[1], x = hotel_booking_df['assigned_room_type'], y = hotel_booking_df['adr'])\n",
        "plt.show()"
      ],
      "metadata": {
        "id": "irlUoxc8YrdO"
      },
      "execution_count": null,
      "outputs": []
    },
    {
      "cell_type": "markdown",
      "source": [
        "##### 1. Why did you pick the specific chart?"
      ],
      "metadata": {
        "id": "iky9q4vBYrdO"
      }
    },
    {
      "cell_type": "markdown",
      "source": [
        "The specific chart chosen consists of two subplots: a countplot and a boxplot. The countplot visualizes the demand for different room types, while the boxplot showcases the average daily rate (ADR) for each room type. This combination of charts was selected to provide insights into both the demand and revenue generated by different room types."
      ],
      "metadata": {
        "id": "aJRCwT6DYrdO"
      }
    },
    {
      "cell_type": "markdown",
      "source": [
        "##### 2. What is/are the insight(s) found from the chart?"
      ],
      "metadata": {
        "id": "F6T5p64dYrdO"
      }
    },
    {
      "cell_type": "markdown",
      "source": [
        "Most demanded room type is A, but better adr rooms are of type H, G and C also."
      ],
      "metadata": {
        "id": "EFJj1ROqQqIM"
      }
    },
    {
      "cell_type": "markdown",
      "source": [
        "##### 3. Will the gained insights help creating a positive business impact?\n",
        "Are there any insights that lead to negative growth? Justify with specific reason."
      ],
      "metadata": {
        "id": "y-Ehk30pYrdP"
      }
    },
    {
      "cell_type": "markdown",
      "source": [
        "Hotels should increase the no. of room types A and H to maximise revenue.\n",
        "\n",
        " The room type with the highest ADR allows the hotel to strategically price different room types, potentially increasing revenue.\n",
        "\n"
      ],
      "metadata": {
        "id": "jLNxxz7MYrdP"
      }
    },
    {
      "cell_type": "markdown",
      "source": [
        "#### **Which meal type is most preffered meal of customers?** (Univariate analysis)"
      ],
      "metadata": {
        "id": "bamQiAODYuh1"
      }
    },
    {
      "cell_type": "code",
      "source": [
        "# visualization code\n",
        "\n",
        "plt.figure( figsize=(8, 4))\n",
        "\n",
        "sns.countplot(x = hotel_booking_df['meal'])\n",
        "plt.show()"
      ],
      "metadata": {
        "id": "TIJwrbroYuh3"
      },
      "execution_count": null,
      "outputs": []
    },
    {
      "cell_type": "markdown",
      "source": [
        "##### 1. Why did you pick the specific chart?"
      ],
      "metadata": {
        "id": "QHF8YVU7Yuh3"
      }
    },
    {
      "cell_type": "markdown",
      "source": [
        "It was plot because this countplot is effective in comparing and visualizing the demand of different meal type.\n",
        "\n"
      ],
      "metadata": {
        "id": "dcxuIMRPYuh3"
      }
    },
    {
      "cell_type": "markdown",
      "source": [
        "##### 2. What is/are the insight(s) found from the chart?"
      ],
      "metadata": {
        "id": "GwzvFGzlYuh3"
      }
    },
    {
      "cell_type": "markdown",
      "source": [
        "Most preferred meal type is BB (Bed and breakfast)."
      ],
      "metadata": {
        "id": "uyqkiB8YYuh3"
      }
    },
    {
      "cell_type": "markdown",
      "source": [
        "##### 3. Will the gained insights help creating a positive business impact?\n",
        "Are there any insights that lead to negative growth? Justify with specific reason."
      ],
      "metadata": {
        "id": "qYpmQ266Yuh3"
      }
    },
    {
      "cell_type": "markdown",
      "source": [
        "The information derived from the above chart can assist the hotel in making meal recommendations to new customers. Furthermore, these insights can be valuable to the staff in optimizing inventory and supply management for ingredients and resources that are specific to the most preferred meal type.\n"
      ],
      "metadata": {
        "id": "_WtzZ_hCYuh4"
      }
    },
    {
      "cell_type": "markdown",
      "source": [
        "**Hotel wise analysis**\n",
        "\n",
        "---\n",
        "\n"
      ],
      "metadata": {
        "id": "C1jnKbcX94g6"
      }
    },
    {
      "cell_type": "markdown",
      "source": [
        "#### **What is percentage of bookings in each hotel?**"
      ],
      "metadata": {
        "id": "E25UnU4qu5Zn"
      }
    },
    {
      "cell_type": "code",
      "source": [
        "#visualization code\n",
        "\n",
        "grouped_by_hotel = hotel_booking_df.groupby('hotel')\n",
        "d1 = pd.DataFrame((grouped_by_hotel.size()/hotel_booking_df.shape[0])*100).reset_index().rename(columns = {0:'Booking %'})      #Calculating percentage\n",
        "plt.figure(figsize = (8,5))\n",
        "sns.barplot(x = d1['hotel'], y = d1['Booking %'] )\n",
        "plt.show()"
      ],
      "metadata": {
        "id": "kuRf4wtuphqN"
      },
      "execution_count": null,
      "outputs": []
    },
    {
      "cell_type": "markdown",
      "source": [
        "##### 1. Why did you pick the specific chart?"
      ],
      "metadata": {
        "id": "bbFf2-_FphqN"
      }
    },
    {
      "cell_type": "markdown",
      "source": [
        "The specific chart chosen is a bar plot that visualizes the percentage of bookings in each hotel."
      ],
      "metadata": {
        "id": "loh7H2nzphqN"
      }
    },
    {
      "cell_type": "markdown",
      "source": [
        "##### 2. What is/are the insight(s) found from the chart?"
      ],
      "metadata": {
        "id": "_ouA3fa0phqN"
      }
    },
    {
      "cell_type": "markdown",
      "source": [
        "\n",
        "Around 60% bookings are for City hotel and 40% bookings are for Resort hotel.\n"
      ],
      "metadata": {
        "id": "VECbqPI7phqN"
      }
    },
    {
      "cell_type": "markdown",
      "source": [
        "##### 3. Will the gained insights help creating a positive business impact?\n",
        "Are there any insights that lead to negative growth? Justify with specific reason."
      ],
      "metadata": {
        "id": "Seke61FWphqN"
      }
    },
    {
      "cell_type": "markdown",
      "source": [
        "Understand the market share and demand distribution between the City hotel and the Resort hotel.\n",
        "\n",
        "Tailor marketing and promotional strategies specific to each hotel based on their respective market proportions.\n",
        "\n"
      ],
      "metadata": {
        "id": "DW4_bGpfphqN"
      }
    },
    {
      "cell_type": "markdown",
      "source": [
        "#### **Which hotel seems to make more revenue?** (Bivariate analysis)"
      ],
      "metadata": {
        "id": "zVMT8nm8vXX9"
      }
    },
    {
      "cell_type": "code",
      "source": [
        "# Chart - 8 visualization code\n",
        "\n",
        "d3 = grouped_by_hotel['adr'].agg(np.mean).reset_index().rename(columns = {'adr':'avg_adr'})   # calculating average adr\n",
        "plt.figure(figsize = (8,5))\n",
        "sns.barplot(x = d3['hotel'], y = d3['avg_adr'] )\n",
        "plt.show()"
      ],
      "metadata": {
        "id": "lqAIGUfyphqO"
      },
      "execution_count": null,
      "outputs": []
    },
    {
      "cell_type": "markdown",
      "source": [
        "##### 1. Why did you pick the specific chart?"
      ],
      "metadata": {
        "id": "t27r6nlMphqO"
      }
    },
    {
      "cell_type": "markdown",
      "source": [
        "The above bar graph is selected to compare the average adr of both type of hotel."
      ],
      "metadata": {
        "id": "iv6ro40sphqO"
      }
    },
    {
      "cell_type": "markdown",
      "source": [
        "##### 2. What is/are the insight(s) found from the chart?"
      ],
      "metadata": {
        "id": "r2jJGEOYphqO"
      }
    },
    {
      "cell_type": "markdown",
      "source": [
        "City hotel has slight more average adr than resort hotel. Although the booking in resort hotel is more than city hotel. However, the revnue in city hotel is more as compared to resort hotel."
      ],
      "metadata": {
        "id": "Po6ZPi4hphqO"
      }
    },
    {
      "cell_type": "markdown",
      "source": [
        "##### 3. Will the gained insights help creating a positive business impact?\n",
        "Are there any insights that lead to negative growth? Justify with specific reason."
      ],
      "metadata": {
        "id": "b0JNsNcRphqO"
      }
    },
    {
      "cell_type": "markdown",
      "source": [
        "\n",
        "Adjust pricing strategies and revenue management techniques based on the ADR performance of each hotel.\n",
        "\n"
      ],
      "metadata": {
        "id": "xvSq8iUTphqO"
      }
    },
    {
      "cell_type": "markdown",
      "source": [
        "#### **Which hotel has higher lead time?** (Bivariate analysis)"
      ],
      "metadata": {
        "id": "jNsq-u4Rvrno"
      }
    },
    {
      "cell_type": "code",
      "source": [
        "# visualization code\n",
        "\n",
        "d2 = grouped_by_hotel['lead_time'].median().reset_index().rename(columns = {'lead_time':'median_lead_time'})\n",
        "plt.figure(figsize = (6,4))\n",
        "sns.barplot(x = d2['hotel'], y = d2['median_lead_time'] )\n",
        "plt.show()"
      ],
      "metadata": {
        "id": "TdPTWpAVphqO"
      },
      "execution_count": null,
      "outputs": []
    },
    {
      "cell_type": "markdown",
      "source": [
        "##### 1. Why did you pick the specific chart?"
      ],
      "metadata": {
        "id": "jj7wYXLtphqO"
      }
    },
    {
      "cell_type": "markdown",
      "source": [
        "The specific chart chosen is a bar plot that visualizes the median lead time for each hotel. It was selected because a bar plot is effective in comparing numerical values (lead time) across different categories (hotels).\n",
        "\n"
      ],
      "metadata": {
        "id": "Ob8u6rCTphqO"
      }
    },
    {
      "cell_type": "markdown",
      "source": [
        "##### 2. What is/are the insight(s) found from the chart?"
      ],
      "metadata": {
        "id": "eZrbJ2SmphqO"
      }
    },
    {
      "cell_type": "markdown",
      "source": [
        "\n",
        "City hotel has slightly higher median lead time. Also median lead time is significantly higher in each case, this means customers generally plan their hotel visits way to early."
      ],
      "metadata": {
        "id": "mZtgC_hjphqO"
      }
    },
    {
      "cell_type": "markdown",
      "source": [
        "##### 3. Will the gained insights help creating a positive business impact?\n",
        "Are there any insights that lead to negative growth? Justify with specific reason."
      ],
      "metadata": {
        "id": "rFu4xreNphqO"
      }
    },
    {
      "cell_type": "markdown",
      "source": [
        "Understand the booking behavior and planning patterns of customers for each hotel.\n",
        "\n",
        "Optimize revenue management strategies by adjusting pricing and availability based on the lead time trends.\n",
        "\n",
        "\n",
        "it is crucial for the hotel to analyze the relationship between lead time, booking patterns, and revenue performance to ensure effective resource allocation and maximize revenue potential."
      ],
      "metadata": {
        "id": "ey_0qi68phqO"
      }
    },
    {
      "cell_type": "markdown",
      "source": [
        "#### **What is preferred stay length in each hotel?** (Univariate analysis)"
      ],
      "metadata": {
        "id": "7ntM-gokv9YK"
      }
    },
    {
      "cell_type": "code",
      "source": [
        "#  visualization code\n",
        "\n",
        "not_canceled = hotel_booking_df[hotel_booking_df['is_canceled'] == 0]\n",
        "s1 = not_canceled[not_canceled['total_stay'] < 15]\n",
        "plt.figure(figsize = (10,5))\n",
        "sns.countplot(x = s1['total_stay'], hue = s1['hotel'])\n",
        "plt.show()"
      ],
      "metadata": {
        "id": "B2aS4O1ophqO"
      },
      "execution_count": null,
      "outputs": []
    },
    {
      "cell_type": "markdown",
      "source": [
        "##### 1. Why did you pick the specific chart?"
      ],
      "metadata": {
        "id": "gCFgpxoyphqP"
      }
    },
    {
      "cell_type": "markdown",
      "source": [
        "The specific chart chosen is a count plot that visualizes the preferred stay length in each hotel.\n",
        "\n"
      ],
      "metadata": {
        "id": "TVxDimi2phqP"
      }
    },
    {
      "cell_type": "markdown",
      "source": [
        "##### 2. What is/are the insight(s) found from the chart?"
      ],
      "metadata": {
        "id": "OVtJsKN_phqQ"
      }
    },
    {
      "cell_type": "markdown",
      "source": [
        "The majority of stays are typically less than 4 days, and generally, individuals tend to choose City hotels for shorter stays. However, for longer durations, Resort hotels are preferred."
      ],
      "metadata": {
        "id": "ngGi97qjphqQ"
      }
    },
    {
      "cell_type": "markdown",
      "source": [
        "##### 3. Will the gained insights help creating a positive business impact?\n",
        "Are there any insights that lead to negative growth? Justify with specific reason."
      ],
      "metadata": {
        "id": "lssrdh5qphqQ"
      }
    },
    {
      "cell_type": "markdown",
      "source": [
        "\n",
        "\n",
        "\n",
        "\n",
        "Customize marketing tactics, packages, and promotions to entice customers based on their favored lengths of stay."
      ],
      "metadata": {
        "id": "tBpY5ekJphqQ"
      }
    },
    {
      "cell_type": "markdown",
      "source": [
        "#### **Which hotel has a longer waited time?** (Bivariate analysis)"
      ],
      "metadata": {
        "id": "JpbsK6JswZ3Q"
      }
    },
    {
      "cell_type": "code",
      "source": [
        "# visualization code\n",
        "\n",
        "d5 = pd.DataFrame(grouped_by_hotel['days_in_waiting_list'].agg(np.mean).reset_index().rename(columns = {'days_in_waiting_list':'avg_waiting_period'}))\n",
        "plt.figure(figsize = (8,5))\n",
        "sns.barplot(x = d5['hotel'], y = d5['avg_waiting_period'] )\n",
        "plt.show()"
      ],
      "metadata": {
        "id": "GM7a4YP4phqQ"
      },
      "execution_count": null,
      "outputs": []
    },
    {
      "cell_type": "markdown",
      "source": [
        "##### 1. Why did you pick the specific chart?"
      ],
      "metadata": {
        "id": "1M8mcRywphqQ"
      }
    },
    {
      "cell_type": "markdown",
      "source": [
        "The specific chart chosen is a bar plot that visualizes the average waiting time in each hotel."
      ],
      "metadata": {
        "id": "8agQvks0phqQ"
      }
    },
    {
      "cell_type": "markdown",
      "source": [
        "##### 2. What is/are the insight(s) found from the chart?"
      ],
      "metadata": {
        "id": "tgIPom80phqQ"
      }
    },
    {
      "cell_type": "markdown",
      "source": [
        "\n",
        "\n",
        "Due to considerably longer waiting times, the City Hotel experiences a higher level of busyness in comparison to the Resort Hotel."
      ],
      "metadata": {
        "id": "Qp13pnNzphqQ"
      }
    },
    {
      "cell_type": "markdown",
      "source": [
        "##### 3. Will the gained insights help creating a positive business impact?\n",
        "Are there any insights that lead to negative growth? Justify with specific reason."
      ],
      "metadata": {
        "id": "JMzcOPDDphqR"
      }
    },
    {
      "cell_type": "markdown",
      "source": [
        "Identify the hotel with a longer average waiting time, indicating a higher demand or a potential bottleneck in the booking process.\n",
        "\n",
        "Evaluate and improve the efficiency of the booking confirmation process to reduce waiting time and enhance customer satisfaction.\n",
        "\n",
        "\n",
        "\n"
      ],
      "metadata": {
        "id": "R4Ka1PC2phqR"
      }
    },
    {
      "cell_type": "markdown",
      "source": [
        "#### **Which hotel has higher bookings cancellation rate?** (Bivariate analysis)"
      ],
      "metadata": {
        "id": "wHB9ulL3woct"
      }
    },
    {
      "cell_type": "code",
      "source": [
        "# Selecting and counting number of cancelled bookings for each hotel.\n",
        "\n",
        "cancelled_data = hotel_booking_df[hotel_booking_df['is_canceled'] == 1]\n",
        "cancel_grp = cancelled_data.groupby('hotel')\n",
        "D1 = pd.DataFrame(cancel_grp.size()).rename(columns = {0:'total_cancelled_bookings'})"
      ],
      "metadata": {
        "id": "mAQTIvtqp1cj"
      },
      "execution_count": null,
      "outputs": []
    },
    {
      "cell_type": "code",
      "source": [
        "# Counting total number of bookings for each type of hotel\n",
        "\n",
        "grouped_by_hotel = hotel_booking_df.groupby('hotel')\n",
        "total_booking = grouped_by_hotel.size()\n",
        "D2 = pd.DataFrame(total_booking).rename(columns = {0: 'total_bookings'})\n",
        "D3 = pd.concat([D1,D2], axis = 1)"
      ],
      "metadata": {
        "id": "qXA0uo5lbqLD"
      },
      "execution_count": null,
      "outputs": []
    },
    {
      "cell_type": "code",
      "source": [
        "# Calculating cancel percentage\n",
        "\n",
        "D3['cancel_%'] = round((D3['total_cancelled_bookings']/D3['total_bookings'])*100,2)\n",
        "D3"
      ],
      "metadata": {
        "id": "n2JQWEU7bq6X"
      },
      "execution_count": null,
      "outputs": []
    },
    {
      "cell_type": "code",
      "source": [
        "#  visualization code\n",
        "\n",
        "##plt.figure(figsize = (10,5))\n",
        "\n",
        "sns.barplot(x = D3.index, y = D3['cancel_%'])\n",
        "plt.show()"
      ],
      "metadata": {
        "id": "8SCj2XmExFwy"
      },
      "execution_count": null,
      "outputs": []
    },
    {
      "cell_type": "markdown",
      "source": [
        "##### 1. Why did you pick the specific chart?"
      ],
      "metadata": {
        "id": "X_VqEhTip1ck"
      }
    },
    {
      "cell_type": "markdown",
      "source": [
        "\n",
        "The graph and table above have been created to compare the percentage of cancellations for both types of hotels."
      ],
      "metadata": {
        "id": "-vsMzt_np1ck"
      }
    },
    {
      "cell_type": "markdown",
      "source": [
        "##### 2. What is/are the insight(s) found from the chart?"
      ],
      "metadata": {
        "id": "8zGJKyg5p1ck"
      }
    },
    {
      "cell_type": "markdown",
      "source": [
        "\n",
        "\n",
        "Nearly 30% of the bookings made for City Hotel were ultimately canceled."
      ],
      "metadata": {
        "id": "ZYdMsrqVp1ck"
      }
    },
    {
      "cell_type": "markdown",
      "source": [
        "##### 3. Will the gained insights help creating a positive business impact?\n",
        "Are there any insights that lead to negative growth? Justify with specific reason."
      ],
      "metadata": {
        "id": "PVzmfK_Ep1ck"
      }
    },
    {
      "cell_type": "markdown",
      "source": [
        "\n",
        "\n",
        "Focus on customer retention and loyalty programs to encourage repeat bookings and minimize cancellations\n",
        "\n",
        "It may indicate customer dissatisfaction, lack of trust, or issues with the hotel's offerings or service quality.\n",
        "\n",
        "Higher cancellations can result in revenue loss, especially if the hotel is unable to fill the canceled rooms with new bookings."
      ],
      "metadata": {
        "id": "druuKYZpp1ck"
      }
    },
    {
      "cell_type": "markdown",
      "source": [
        "#### **Which hotel has a high chance that its customer will return for another stay?** (Bivariate analysis)"
      ],
      "metadata": {
        "id": "Ir1Zf-2YxVnO"
      }
    },
    {
      "cell_type": "code",
      "source": [
        "# Selecting and counting repeated customers bookings\n",
        "\n",
        "repeated_data = hotel_booking_df[hotel_booking_df['is_repeated_guest'] == 1]\n",
        "repeat_grp = repeated_data.groupby('hotel')\n",
        "D1 = pd.DataFrame(repeat_grp.size()).rename(columns = {0:'total_repeated_guests'})"
      ],
      "metadata": {
        "id": "Ey8WYKzsxwqO"
      },
      "execution_count": null,
      "outputs": []
    },
    {
      "cell_type": "code",
      "source": [
        "# Counting total bookings\n",
        "\n",
        "total_booking = grouped_by_hotel.size()\n",
        "D2 = pd.DataFrame(total_booking).rename(columns = {0: 'total_bookings'})\n",
        "D3 = pd.concat([D1,D2], axis = 1)"
      ],
      "metadata": {
        "id": "cUTBROGIOoFJ"
      },
      "execution_count": null,
      "outputs": []
    },
    {
      "cell_type": "code",
      "source": [
        "# Calculating repeat %\n",
        "\n",
        "D3['repeat_%'] = round((D3['total_repeated_guests']/D3['total_bookings'])*100,2)"
      ],
      "metadata": {
        "id": "9QrzIJTwOmf4"
      },
      "execution_count": null,
      "outputs": []
    },
    {
      "cell_type": "code",
      "source": [
        "#  visualization code\n",
        "\n",
        "plt.figure(figsize = (8,4))\n",
        "sns.barplot(x = D3.index, y = D3['repeat_%'])\n",
        "plt.show()"
      ],
      "metadata": {
        "id": "WNvqvposOw8z"
      },
      "execution_count": null,
      "outputs": []
    },
    {
      "cell_type": "markdown",
      "source": [
        "##### 1. Why did you pick the specific chart?"
      ],
      "metadata": {
        "id": "ylSl6qgtp1ck"
      }
    },
    {
      "cell_type": "markdown",
      "source": [
        " This bar plot is choosen beacause its suitable for comparing the repeat percentages of different hotels."
      ],
      "metadata": {
        "id": "m2xqNkiQp1ck"
      }
    },
    {
      "cell_type": "markdown",
      "source": [
        "##### 2. What is/are the insight(s) found from the chart?"
      ],
      "metadata": {
        "id": "ZWILFDl5p1ck"
      }
    },
    {
      "cell_type": "markdown",
      "source": [
        "\n",
        "\n",
        "While both hotels have a low rate of customer retention, the Resort Hotel shows a slightly higher percentage of repeat customers compared to the City Hotel."
      ],
      "metadata": {
        "id": "x-lUsV2mp1ck"
      }
    },
    {
      "cell_type": "markdown",
      "source": [
        "##### 3. Will the gained insights help creating a positive business impact?\n",
        "Are there any insights that lead to negative growth? Justify with specific reason."
      ],
      "metadata": {
        "id": "M7G43BXep1ck"
      }
    },
    {
      "cell_type": "markdown",
      "source": [
        "The gained insights can potentially have a positive impact on the business. Higher repeat percentages indicate a higher level of customer loyalty and satisfaction, which can contribute to positive word-of-mouth, increased customer retention, and potential revenue growth. By identifying hotels with higher repeat percentages, Hotels can focus on strategies to further enhance customer loyalty and retention.\n",
        "\n"
      ],
      "metadata": {
        "id": "5wwDJXsLp1cl"
      }
    },
    {
      "cell_type": "markdown",
      "source": [
        "**Distribution Channel wise Analysis**\n",
        "\n",
        "---\n",
        "\n"
      ],
      "metadata": {
        "id": "eHwDR2W0_mv5"
      }
    },
    {
      "cell_type": "markdown",
      "source": [
        "#### **Which is the most common channel for booking hotels?** (Bivariate analysis)"
      ],
      "metadata": {
        "id": "5zmkG6c5yfHw"
      }
    },
    {
      "cell_type": "code",
      "source": [
        "#  visualization code\n",
        "\n",
        "group_by_dc = hotel_booking_df.groupby('distribution_channel')\n",
        "d1 = pd.DataFrame(round((group_by_dc.size()/hotel_booking_df.shape[0])*100,2)).reset_index().rename(columns = {0: 'Booking_%'})\n",
        "plt.figure(figsize = (6,6))\n",
        "data = d1['Booking_%']\n",
        "labels = d1['distribution_channel']\n",
        "plt.pie(x=data, autopct=\"%.2f%%\", explode=[0.05]*5, labels=labels, pctdistance=0.5)\n",
        "plt.title(\"Booking % by distribution channels\", fontsize=14);"
      ],
      "metadata": {
        "id": "EUfxeq9-p1cl"
      },
      "execution_count": null,
      "outputs": []
    },
    {
      "cell_type": "markdown",
      "source": [
        "##### 1. Why did you pick the specific chart?"
      ],
      "metadata": {
        "id": "E6MkPsBcp1cl"
      }
    },
    {
      "cell_type": "markdown",
      "source": [
        " This specific chart choosen beacause it effective for illustrating the distribution of a categorical variable, such as the booking percentages across different distribution channels. It provides a clear visual representation of the proportion of bookings attributed to each channel."
      ],
      "metadata": {
        "id": "V22bRsFWp1cl"
      }
    },
    {
      "cell_type": "markdown",
      "source": [
        "##### 2. What is/are the insight(s) found from the chart?"
      ],
      "metadata": {
        "id": "2cELzS2fp1cl"
      }
    },
    {
      "cell_type": "markdown",
      "source": [
        "TA/TO channel has highest booking followed by corporate channel.\n",
        "Bookings were very low through GDS channel.\n",
        "\n"
      ],
      "metadata": {
        "id": "ozQPc2_Ip1cl"
      }
    },
    {
      "cell_type": "markdown",
      "source": [
        "##### 3. Will the gained insights help creating a positive business impact?\n",
        "Are there any insights that lead to negative growth? Justify with specific reason."
      ],
      "metadata": {
        "id": "3MPXvC8up1cl"
      }
    },
    {
      "cell_type": "markdown",
      "source": [
        "To increase bookings from the GDS channel, hotels should focus on improving their presence and content on the platform, offering competitive pricing, building relationships with GDS providers, incentivizing travel agents, promoting direct booking benefits, and monitoring performance and analytics."
      ],
      "metadata": {
        "id": "GL8l1tdLp1cl"
      }
    },
    {
      "cell_type": "markdown",
      "source": [
        "#### **Which channel is mostly used for early booking of hotels?** (Bivariate analysis)"
      ],
      "metadata": {
        "id": "lkY7W0Nl378u"
      }
    },
    {
      "cell_type": "code",
      "source": [
        "# visualization code\n",
        "\n",
        "group_by_dc = hotel_booking_df.groupby('distribution_channel')\n",
        "d2 = pd.DataFrame(round(group_by_dc['lead_time'].median(),2)).reset_index().rename(columns = {'lead_time': 'median_lead_time'})\n",
        "plt.figure(figsize = (7,5))\n",
        "sns.barplot(x = d2['distribution_channel'], y = d2['median_lead_time'])\n",
        "plt.show()"
      ],
      "metadata": {
        "id": "4JO-pY5_348R"
      },
      "execution_count": null,
      "outputs": []
    },
    {
      "cell_type": "markdown",
      "source": [
        "##### 1. Why did you pick the specific chart?"
      ],
      "metadata": {
        "id": "Uqv6CcaLcqwn"
      }
    },
    {
      "cell_type": "markdown",
      "source": [
        "\n",
        "The bar plot is used to compare the median lead time across different distribution channels."
      ],
      "metadata": {
        "id": "AgHmBo1Xc2QU"
      }
    },
    {
      "cell_type": "markdown",
      "source": [
        "##### 2. What is/are the insight(s) found from the chart?"
      ],
      "metadata": {
        "id": "ii9HbgVgcrLB"
      }
    },
    {
      "cell_type": "markdown",
      "source": [
        "\n",
        "\n",
        "TA\\TO  has highest median time"
      ],
      "metadata": {
        "id": "gw6F3ufAc3Ny"
      }
    },
    {
      "cell_type": "markdown",
      "source": [
        "##### 3.Will the gained insights help creating a positive business impact?\n",
        "Are there any insights that lead to negative growth? Justify with specific reason."
      ],
      "metadata": {
        "id": "_ID-pOf8csdQ"
      }
    },
    {
      "cell_type": "markdown",
      "source": [
        "The gained insights can help create a positive business impact. Understanding that TA/TO (Travel Agent/Travel Operator) is mostly used for planning hotel visits ahead of time can allow businesses to focus their marketing efforts and partnerships on these channels. By targeting TA/TO channels and offering attractive early booking deals and packages, businesses can attract customers who prefer to plan their hotel visits well in advance. This can lead to increased bookings, customer loyalty, and positive business impact.\n",
        "\n",
        " Lengthy lead times can deter potential customers, leading to a loss of bookings and potential negative growth. Customers may opt for other channels or competitors that offer faster and more efficient booking processes. Identifying such insights is essential for businesses to address any inefficiencies, optimize their operations, and provide a seamless booking experience to avoid negative impacts on growth and revenue."
      ],
      "metadata": {
        "id": "DKy3B2tGc4FV"
      }
    },
    {
      "cell_type": "markdown",
      "source": [
        "#### **Which channel has longer average waiting time?** (Bivariate analysis)"
      ],
      "metadata": {
        "id": "ei2CMnip-uWV"
      }
    },
    {
      "cell_type": "code",
      "source": [
        "# visualization code\n",
        "\n",
        "d4 = pd.DataFrame(round((group_by_dc['days_in_waiting_list']).mean(),2)).reset_index().rename(columns = {'days_in_waiting_list': 'avg_waiting_time'})\n",
        "plt.figure(figsize = (7,5))\n",
        "sns.barplot(x = d4['distribution_channel'], y = d4['avg_waiting_time'])\n",
        "plt.show()"
      ],
      "metadata": {
        "id": "eqDFW3lnlPFh"
      },
      "execution_count": null,
      "outputs": []
    },
    {
      "cell_type": "markdown",
      "source": [
        "##### 1.Why did you pick the specific chart?"
      ],
      "metadata": {
        "id": "LRUCllM7evEi"
      }
    },
    {
      "cell_type": "markdown",
      "source": [
        "The bar plot is used to compare the average waiting time for bookings across different distribution channels.By analyzing the average waiting time, it can be observed which distribution channel has a higher value. The channel with a longer average waiting time indicates that customers booking through that channel may have to wait a little longer to confirm their room reservations."
      ],
      "metadata": {
        "id": "IKWyUvY8evcw"
      }
    },
    {
      "cell_type": "markdown",
      "source": [
        "##### 2. What is/are the insight(s) found from the chart?\n"
      ],
      "metadata": {
        "id": "fZPAD5adevtz"
      }
    },
    {
      "cell_type": "markdown",
      "source": [
        "While booking via TA/TO one may have to wait a little longer to confirm booking\n",
        "of rooms.\n",
        "\n"
      ],
      "metadata": {
        "id": "SOudAJ0LewG_"
      }
    },
    {
      "cell_type": "markdown",
      "source": [
        "##### 3.Will the gained insights help creating a positive business impact?\n",
        "Are there any insights that lead to negative growth? Justify with specific reason."
      ],
      "metadata": {
        "id": "3QjP6VBqewaT"
      }
    },
    {
      "cell_type": "markdown",
      "source": [
        " Understanding that bookings made through TA/TO channels may have a longer average waiting time can help businesses manage customer expectations and optimize their booking processes. By providing clear communication regarding waiting times and offering alternatives or incentives for customers who prefer faster confirmation, businesses can enhance customer satisfaction and maintain positive relationships with customers booking through TA/TO channels. This can contribute to positive word-of-mouth, customer loyalty, and ultimately a positive business impact.\n",
        "\n",
        "\n",
        "\n",
        "\n",
        "\n",
        "\n",
        "\n"
      ],
      "metadata": {
        "id": "UfU7v86AfQFo"
      }
    },
    {
      "cell_type": "markdown",
      "source": [
        "#### **Which distribution channel brings better revenue generating deals for hotels?** (Bivariate analysis)"
      ],
      "metadata": {
        "id": "Elihbh8QmKXL"
      }
    },
    {
      "cell_type": "code",
      "source": [
        "# visualization code\n",
        "\n",
        "group_by_dc_hotel = hotel_booking_df.groupby(['distribution_channel', 'hotel'])\n",
        "d5 = pd.DataFrame(round((group_by_dc_hotel['adr']).agg(np.mean),2)).reset_index().rename(columns = {'adr': 'avg_adr'})\n",
        "plt.figure(figsize = (7,5))\n",
        "sns.barplot(x = d5['distribution_channel'], y = d5['avg_adr'], hue = d5['hotel'])\n",
        "plt.ylim(40,140)\n",
        "plt.show()"
      ],
      "metadata": {
        "id": "OV4OpwdNl6Go"
      },
      "execution_count": null,
      "outputs": []
    },
    {
      "cell_type": "markdown",
      "source": [
        "1.Why did you pick the specific chart?"
      ],
      "metadata": {
        "id": "LsMd0hsEf3kW"
      }
    },
    {
      "cell_type": "markdown",
      "source": [
        "The grouped bar plot is used to compare the average daily rate (ADR) for different distribution channels and hotels.\n"
      ],
      "metadata": {
        "id": "or7fFRhLf39t"
      }
    },
    {
      "cell_type": "markdown",
      "source": [
        "##### 2.What is/are the insight(s) found from the chart?\n"
      ],
      "metadata": {
        "id": "SQO1vfhXf_yP"
      }
    },
    {
      "cell_type": "markdown",
      "source": [
        "GDS channel brings higher revenue generatingrevenue-generatingtel, in contrast to that most bookings come via TA/TO. City Hotel can work to increase outreach on GDS channels to get more higher revenue generating deals.\n",
        "\n",
        "Resort hotel has more revnue generating deals by direct and TA/TO channel. Resort Hotel need to increase outreach on GDS channel to increase revenue."
      ],
      "metadata": {
        "id": "VeiaX4OVgAME"
      }
    },
    {
      "cell_type": "markdown",
      "source": [
        "##### 3.Will the gained insights help creating a positive business impact?\n",
        "Are there any insights that lead to negative growth? Justify with specific reason."
      ],
      "metadata": {
        "id": "Y-RX1sJDgAg1"
      }
    },
    {
      "cell_type": "markdown",
      "source": [
        "The insight that direct bookings and TA/TO channels bring more revenue-generating deals can guide their marketing strategies. Resort Hotel need to increase outreach on GDS channel to increase revenue."
      ],
      "metadata": {
        "id": "nwYEWOmvgA1Z"
      }
    },
    {
      "cell_type": "markdown",
      "source": [
        "##### **Booking cancellation Analysis**\n",
        "Let us try to understand what causes the people to cancel the booking.\n",
        "\n",
        "---\n",
        "\n"
      ],
      "metadata": {
        "id": "QZAHL_uTmmXX"
      }
    },
    {
      "cell_type": "markdown",
      "source": [
        "#### **Lets see does not getting same room affects the adr.** (Bivariate analysis)"
      ],
      "metadata": {
        "id": "le0K57wui_z0"
      }
    },
    {
      "cell_type": "code",
      "source": [
        "#  visualization code\n",
        "\n",
        "plt.figure(figsize = (10,5))\n",
        "sns.boxplot(x = 'same_room_not_alloted', y = 'adr', data = hotel_booking_df)\n",
        "plt.show()"
      ],
      "metadata": {
        "id": "_LfZKB9Jl_lP"
      },
      "execution_count": null,
      "outputs": []
    },
    {
      "cell_type": "markdown",
      "source": [
        "##### 1. Why did you pick the specific chart?"
      ],
      "metadata": {
        "id": "hm1MYplgjlXH"
      }
    },
    {
      "cell_type": "markdown",
      "source": [
        "The above box plot is drawn becuase it effective in visualizing the distribution of a average daily rate (ADR) based on whether the same room was allotted or not."
      ],
      "metadata": {
        "id": "XPor_UfzjiBk"
      }
    },
    {
      "cell_type": "markdown",
      "source": [
        "##### 2. What is/are the insight(s) found from the chart?"
      ],
      "metadata": {
        "id": "7IGATvoQjqP9"
      }
    },
    {
      "cell_type": "markdown",
      "source": [
        "It is evident from aboe graph that the non-allocation of the requested room type does have an impact on the average daily rate (ADR). Generally, those who did not receive the requested room type have paid a slightly lower ADR, with only a few exceptions."
      ],
      "metadata": {
        "id": "BSbtNm8Cj0O5"
      }
    },
    {
      "cell_type": "markdown",
      "source": [
        "##### 3. Will the gained insights help creating a positive business impact?\n",
        "Are there any insights that lead to negative growth? Justify with specific reason."
      ],
      "metadata": {
        "id": "dB3451bZhoTy"
      }
    },
    {
      "cell_type": "markdown",
      "source": [
        "Ensuring that guests receive the same room they requested or providing alternative rooms of comparable quality can contribute to customer satisfaction and potentially justify higher ADR."
      ],
      "metadata": {
        "id": "l4UzYdoJid6g"
      }
    },
    {
      "cell_type": "markdown",
      "source": [
        "#### **Which are the most busiest months?** (Univariate analysis)"
      ],
      "metadata": {
        "id": "6-4d1cGIhAnW"
      }
    },
    {
      "cell_type": "code",
      "source": [
        "d_month = hotel_booking_df['arrival_date_month'].value_counts().reset_index()\n",
        "d_month.columns=['months','Number of guests']\n",
        "d_month"
      ],
      "metadata": {
        "id": "O-bIUgtPmAx-"
      },
      "execution_count": null,
      "outputs": []
    },
    {
      "cell_type": "code",
      "source": [
        "months = ['January', 'February', 'March', 'April', 'May', 'June', 'July', 'August', 'September', 'October', 'November', 'December']\n",
        "d_month['months'] = pd.Categorical(d_month['months'], categories=months, ordered=True)\n",
        "d_month.sort_values('months').reset_index()"
      ],
      "metadata": {
        "id": "AlD0KagTCra9"
      },
      "execution_count": null,
      "outputs": []
    },
    {
      "cell_type": "code",
      "source": [
        "data_resort = hotel_booking_df[(hotel_booking_df['hotel'] == 'Resort Hotel') & (hotel_booking_df['is_canceled'] == 0)]\n",
        "data_city = hotel_booking_df[(hotel_booking_df['hotel'] == 'City Hotel') & (hotel_booking_df['is_canceled'] == 0)]\n",
        "resort_hotel = data_resort.groupby(['arrival_date_month'])['adr'].mean().reset_index()\n",
        "city_hotel=data_city.groupby(['arrival_date_month'])['adr'].mean().reset_index()\n",
        "final_hotel = resort_hotel.merge(city_hotel, on = 'arrival_date_month')\n",
        "final_hotel.columns = ['month', 'price_for_resort', 'price_for_city_hotel']\n",
        "final_hotel"
      ],
      "metadata": {
        "id": "KMtl7-8mfrX4"
      },
      "execution_count": null,
      "outputs": []
    },
    {
      "cell_type": "code",
      "source": [
        "resort_guest = data_resort['arrival_date_month'].value_counts().reset_index()\n",
        "resort_guest.columns=['month','no of guests']\n",
        "resort_guest"
      ],
      "metadata": {
        "id": "JftNLmoTfsWR"
      },
      "execution_count": null,
      "outputs": []
    },
    {
      "cell_type": "code",
      "source": [
        "city_guest = data_city['arrival_date_month'].value_counts().reset_index()\n",
        "city_guest.columns=['month','no of guests']\n",
        "city_guest"
      ],
      "metadata": {
        "id": "i4H8BT-nfs_t"
      },
      "execution_count": null,
      "outputs": []
    },
    {
      "cell_type": "code",
      "source": [
        "final_guest=resort_guest.merge(city_guest, on = 'month')\n",
        "final_guest.columns=['month','no of guests in resort','no of guest in city hotel']\n",
        "final_guest\n",
        "months = ['January', 'February', 'March', 'April', 'May', 'June', 'July', 'August', 'September', 'October', 'November', 'December']\n",
        "final_guest['month'] = pd.Categorical(final_guest['month'], categories=months, ordered=True)\n",
        "final_guest = final_guest.sort_values('month').reset_index()"
      ],
      "metadata": {
        "id": "2XyR1EfEftrS"
      },
      "execution_count": null,
      "outputs": []
    },
    {
      "cell_type": "code",
      "source": [
        "# visualization code\n",
        "\n",
        "sns.lineplot(data=final_guest, x='month', y='no of guests in resort')\n",
        "sns.lineplot(data=final_guest, x='month', y='no of guest in city hotel')\n",
        "plt.legend(['Resort','City Hotel'])\n",
        "plt.ylabel('Number of guest')\n",
        "fig = plt.gcf()\n",
        "fig.set_size_inches(10,5)"
      ],
      "metadata": {
        "id": "vPe0okFZfuO3"
      },
      "execution_count": null,
      "outputs": []
    },
    {
      "cell_type": "markdown",
      "source": [
        "##### 1. Why did you pick the specific chart?"
      ],
      "metadata": {
        "id": "3Bi40MubnhAc"
      }
    },
    {
      "cell_type": "markdown",
      "source": [
        "The above line graph helps in tracking the month-on-month growth of hotel industry. It provides insights into booking trends and patterns throughout the year."
      ],
      "metadata": {
        "id": "sOV5mTH2njoX"
      }
    },
    {
      "cell_type": "markdown",
      "source": [
        "##### 2. What is/are the insight(s) found from the chart?"
      ],
      "metadata": {
        "id": "UMF36R_pnlfH"
      }
    },
    {
      "cell_type": "markdown",
      "source": [
        "we can observe that both types of hotel bookings experience an upward trend from January to August, with a minor dip in June for resort hotels. Subsequently, bookings start to decline.The month of August demonstrates the highest demand across the observed period.\n",
        "\n"
      ],
      "metadata": {
        "id": "VRjw3ujEoJKv"
      }
    },
    {
      "cell_type": "markdown",
      "source": [
        "##### 3. Will the gained insights help creating a positive business impact?\n",
        "Are there any insights that lead to negative growth? Justify with specific reason."
      ],
      "metadata": {
        "id": "csP0F2tJpG2M"
      }
    },
    {
      "cell_type": "markdown",
      "source": [
        "The gained insights can help create a positive business impact by providing information on the busiest months. Hotels can leverage this information to optimize their operations and resources during high-demand periods. They can plan their staffing, inventory, and marketing strategies accordingly to ensure a seamless guest experience and maximize revenue during these peak months. By understanding the busiest months, hotels can align their services and offerings to cater to the increased influx of guests, resulting in positive business impact.\n",
        "\n",
        "The insights obtained from the chart do not directly lead to negative growth. However, if hotels fail to manage and accommodate the high number of guests during the busiest months, it may negatively impact customer satisfaction and overall business performance. Insufficient staffing, limited room availability, or inadequate services during peak periods can lead to customer dissatisfaction, negative reviews, and potential loss of future business. Therefore, it is crucial for hotels to proactively plan and prepare for the busiest months to ensure a positive guest experience and maintain growth in the long run."
      ],
      "metadata": {
        "id": "7KGxx5STpNQq"
      }
    },
    {
      "cell_type": "markdown",
      "source": [
        "#### **Which month yields the highest revenue ?** (Univariate analysis)"
      ],
      "metadata": {
        "id": "b_ca-FkAltV_"
      }
    },
    {
      "cell_type": "code",
      "source": [
        "data_resort = hotel_booking_df[(hotel_booking_df['hotel'] == 'Resort Hotel') & (hotel_booking_df['is_canceled'] == 0)]\n",
        "data_city = hotel_booking_df[(hotel_booking_df['hotel'] == 'City Hotel') & (hotel_booking_df['is_canceled'] == 0)]"
      ],
      "metadata": {
        "id": "m0SbBUpEpCMQ"
      },
      "execution_count": null,
      "outputs": []
    },
    {
      "cell_type": "code",
      "source": [
        "resort_hotel = data_resort.groupby(['arrival_date_month'])['adr'].mean().reset_index()\n",
        "city_hotel=data_city.groupby(['arrival_date_month'])['adr'].mean().reset_index()\n",
        "final_hotel = resort_hotel.merge(city_hotel, on = 'arrival_date_month')\n",
        "final_hotel.columns = ['month', 'price_for_resort', 'price_for_city_hotel']\n",
        "months = ['January', 'February', 'March', 'April', 'May', 'June', 'July', 'August', 'September', 'October', 'November', 'December']\n",
        "final_hotel['month'] = pd.Categorical(final_hotel['month'], categories=months, ordered=True)\n",
        "final_hotel = final_hotel.sort_values('month').reset_index()"
      ],
      "metadata": {
        "id": "uLafjHm6iCrK"
      },
      "execution_count": null,
      "outputs": []
    },
    {
      "cell_type": "code",
      "source": [
        "# chart  visualization code\n",
        "\n",
        "sns.lineplot(data=final_hotel, x='month', y='price_for_resort')\n",
        "sns.lineplot(data=final_hotel, x='month', y='price_for_city_hotel')\n",
        "plt.legend(['Resort','City Hotel'])\n",
        "plt.ylabel('adr')\n",
        "fig = plt.gcf()\n",
        "fig.set_size_inches(10,5)"
      ],
      "metadata": {
        "id": "It1zICmepE2p"
      },
      "execution_count": null,
      "outputs": []
    },
    {
      "cell_type": "markdown",
      "source": [
        "##### 1.Why did you pick the specific chart?"
      ],
      "metadata": {
        "id": "7xHAk5RB2mWI"
      }
    },
    {
      "cell_type": "markdown",
      "source": [
        "I picked the specific chart because it displays the average daily rate (adr) for a resort hotel and a city hotel across different months. By comparing the prices of these two types of hotels over time, we can gain insights into their pricing trends and identify potential patterns or differences."
      ],
      "metadata": {
        "id": "QHuSJq7L2jrO"
      }
    },
    {
      "cell_type": "markdown",
      "source": [
        "##### 2. What is/are the insight(s) found from the chart?"
      ],
      "metadata": {
        "id": "JNfF76OK2sc4"
      }
    },
    {
      "cell_type": "markdown",
      "source": [
        "The chart shows the average daily rates for both the resort hotel and the city hotel across the months of the year.\n",
        "It allows us to compare the pricing trends between the two types of hotels and observe any variations or similarities."
      ],
      "metadata": {
        "id": "jGuyxY9M21Gi"
      }
    },
    {
      "cell_type": "markdown",
      "source": [
        "##### 3. Will the gained insights help creating a positive business impact?\n",
        "Are there any insights that lead to negative growth? Justify with specific reason."
      ],
      "metadata": {
        "id": "jP55w16B23fX"
      }
    },
    {
      "cell_type": "markdown",
      "source": [
        "\n",
        "\n",
        "The gained insights will help hotel industry in planning their operations and pricing strategies. It helps in estimating revenue expectations, enables effective financial planning."
      ],
      "metadata": {
        "id": "GoCoQwX63AaD"
      }
    },
    {
      "cell_type": "markdown",
      "source": [
        "#### **Monthly booking analysis of both type of hotel** (Univariate analysis)"
      ],
      "metadata": {
        "id": "Vy2VFZgtoWaF"
      }
    },
    {
      "cell_type": "code",
      "source": [
        "# visualization code\n",
        "\n",
        "reindex = ['January', 'February','March','April','May','June','July','August','September','October','November','December']\n",
        "hotel_booking_df['arrival_date_month'] = pd.Categorical(hotel_booking_df['arrival_date_month'],categories=reindex,ordered=True)\n",
        "plt.figure(figsize = (15,8))\n",
        "sns.boxplot(x = hotel_booking_df['arrival_date_month'],y = hotel_booking_df['adr'])\n",
        "plt.show()"
      ],
      "metadata": {
        "id": "EtCU_epmpdji"
      },
      "execution_count": null,
      "outputs": []
    },
    {
      "cell_type": "markdown",
      "source": [
        "##### 1. Why did you pick the specific chart?"
      ],
      "metadata": {
        "id": "DjXHG1-FoUjm"
      }
    },
    {
      "cell_type": "markdown",
      "source": [
        "- The above lineplot is made to track the year-by-year growth of the hotel industry."
      ],
      "metadata": {
        "id": "uRfC6ZR_oRtM"
      }
    },
    {
      "cell_type": "markdown",
      "source": [
        "##### 2. What is/are the insight(s) found from the chart?"
      ],
      "metadata": {
        "id": "lX2IsYn3oW9i"
      }
    },
    {
      "cell_type": "markdown",
      "source": [
        "- The above gaph show that in both type of hotel, adr rises from starting of year till august and the start decreasing and then slightly increse in december.\n",
        "- In July and August resort hotel generates more adr than city hotel."
      ],
      "metadata": {
        "id": "KZmJQ5fLoYQ1"
      }
    },
    {
      "cell_type": "markdown",
      "source": [
        "##### 3. Will the gained insights help creating a positive business impact?\n",
        "Are there any insights that lead to negative growth? Justify with specific reason."
      ],
      "metadata": {
        "id": "cESZMtpeobbl"
      }
    },
    {
      "cell_type": "markdown",
      "source": [
        "There is a need to find out the possible reason of less number of booking. Steps should be taken to increase booking."
      ],
      "metadata": {
        "id": "7jVUiSBGojr7"
      }
    },
    {
      "cell_type": "markdown",
      "source": [
        "#### **Yearly booking trend in both type of hotel** (Univariate analysis)"
      ],
      "metadata": {
        "id": "bmI1zblbpg30"
      }
    },
    {
      "cell_type": "code",
      "source": [
        "data_resort = hotel_booking_df[(hotel_booking_df['hotel'] == 'Resort Hotel') & (hotel_booking_df['is_canceled'] == 0)]\n",
        "data_city =hotel_booking_df[(hotel_booking_df['hotel'] == 'City Hotel') & (hotel_booking_df['is_canceled'] == 0)]"
      ],
      "metadata": {
        "id": "zWWG_ahTpwdW"
      },
      "execution_count": null,
      "outputs": []
    },
    {
      "cell_type": "code",
      "source": [
        "# Booking counts of both type of hotel yearwise\n",
        "data_resort = data_resort['arrival_date_year'].value_counts().reset_index()\n",
        "data_resort.columns=['Year','no_of_guests']\n",
        "data_resort\n",
        "\n",
        "data_city = data_city['arrival_date_year'].value_counts().reset_index()\n",
        "data_city.columns=['Year','no_of_guests']\n",
        "data_city\n",
        "\n",
        "# plot the graph\n",
        "plt.figure(figsize = (15,8))\n",
        "sns.lineplot(x = data_resort['Year'], y = data_resort['no_of_guests'], label ='Resort hotel')\n",
        "sns.lineplot(x = data_city['Year'], y = data_city['no_of_guests'], label ='City hotel')\n",
        "plt.title('Year wise booking analysis')\n",
        "plt.ylabel('Number of Booking')\n",
        "plt.xticks([2015, 2016, 2017])\n",
        "plt.show()"
      ],
      "metadata": {
        "id": "NxPC33vYqHH9"
      },
      "execution_count": null,
      "outputs": []
    },
    {
      "cell_type": "markdown",
      "source": [
        "##### 1. Why did you pick the specific chart?"
      ],
      "metadata": {
        "id": "AVdhNC3yqPvp"
      }
    },
    {
      "cell_type": "markdown",
      "source": [
        "The above lineplot is made to track the year-by-year growth of the hotel industry"
      ],
      "metadata": {
        "id": "T8hbBO3GqUU1"
      }
    },
    {
      "cell_type": "markdown",
      "source": [
        "##### 2. What is/are the insight(s) found from the chart?"
      ],
      "metadata": {
        "id": "lj-lFYvRqXxH"
      }
    },
    {
      "cell_type": "markdown",
      "source": [
        "The above graph shows the booking has incresed in 2016 but decresed in 2017."
      ],
      "metadata": {
        "id": "o65qLIwWqbKK"
      }
    },
    {
      "cell_type": "markdown",
      "source": [
        "##### 3. Will the gained insights help creating a positive business impact?\n",
        "Are there any insights that lead to negative growth? Justify with specific reason."
      ],
      "metadata": {
        "id": "Sst--e5_qd9t"
      }
    },
    {
      "cell_type": "markdown",
      "source": [
        "There is a need to find out the possible reason of less number of booking in 2017. Steps should be taken to increase booking."
      ],
      "metadata": {
        "id": "lH8rCY5uqgzZ"
      }
    },
    {
      "cell_type": "markdown",
      "source": [
        "#### **What is the trend of arrival numbers and average daily rate (ADR) within a month?**"
      ],
      "metadata": {
        "id": "HgQrIuy5jKXq"
      }
    },
    {
      "cell_type": "code",
      "source": [
        "# visualization code\n",
        "\n",
        "d6 = pd.DataFrame(not_canceled.groupby('arrival_date_day_of_month').size()).rename(columns = {0:'Arrival_num'})\n",
        "d6['avg_adr'] = not_canceled.groupby('arrival_date_day_of_month')['adr'].agg(np.mean)\n",
        "fig, axes = plt.subplots(1, 2, figsize=(18, 8))\n",
        "\n",
        "# Plotting arrival num for each day of month\n",
        "g = sns.lineplot(ax = axes[0],x = d6.index, y = d6['Arrival_num'])\n",
        "g.grid()\n",
        "g.set_xticks([1,7,14,21,28,31])\n",
        "g.set_xticklabels([1,7,14,21,28,31])\n",
        "\n",
        "# Plotting avg adr for each day of month\n",
        "h = sns.lineplot(ax = axes[1],x = d6.index, y = d6['avg_adr'])\n",
        "h.grid()\n",
        "h.set_xticks([1,7,14,21,28,31])\n",
        "h.set_xticklabels([1,7,14,21,28,31])\n",
        "\n",
        "plt.show()"
      ],
      "metadata": {
        "id": "28pEZ2_Up0-L"
      },
      "execution_count": null,
      "outputs": []
    },
    {
      "cell_type": "markdown",
      "source": [
        "##### 1. Why did you pick the specific chart?"
      ],
      "metadata": {
        "id": "GREAcfzy3hk1"
      }
    },
    {
      "cell_type": "markdown",
      "source": [
        "The above line graph helps in tracking the arrival numbers and average daily rate (ADR) within a month. It provides insights into revenue trends and patterns throughout the within a month."
      ],
      "metadata": {
        "id": "nsxeUTxm3fmX"
      }
    },
    {
      "cell_type": "markdown",
      "source": [
        "##### 2. What is/are the insight(s) found from the chart?"
      ],
      "metadata": {
        "id": "JF4aKchR3l2G"
      }
    },
    {
      "cell_type": "markdown",
      "source": [
        "The graph reveals that the \"Arrival_num\" exhibits small peaks at regular intervals, which could be attributed to increased arrivals on weekends. Moreover, the average daily rate (ADR) tends to increase towards the end of the month."
      ],
      "metadata": {
        "id": "Lz2BXk4up7T2"
      }
    },
    {
      "cell_type": "markdown",
      "source": [
        "##### 3.Will the gained insights help creating a positive business impact?\n",
        "Are there any insights that lead to negative growth? Justify with specific reason."
      ],
      "metadata": {
        "id": "FNT62wBO3wXL"
      }
    },
    {
      "cell_type": "markdown",
      "source": [
        "**Pricing Strategy:** Understanding the seasonal variation in adr can assist businesses in formulating effective pricing strategies. They can adjust their rates during peak months to maximize revenue, while offering competitive deals during off-peak periods to attract more customers.\n",
        "\n",
        "**Demand Forecasting:** Analyzing the adr trends can aid in forecasting demand and adjusting hotel capacity accordingly. By identifying high-demand months, hotels can allocate resources and staff accordingly, ensuring optimal customer satisfaction and revenue generation.\n",
        "\n",
        "it is important to note that consistently high adr rates throughout the year can potentially deter some customers and lead to reduced demand"
      ],
      "metadata": {
        "id": "6HeK7cZp30d_"
      }
    },
    {
      "cell_type": "markdown",
      "source": [
        "#### **How does the booking percentage vary among three categories of customers: singles, couples, and family/friends?** (Bivariate analysis)"
      ],
      "metadata": {
        "id": "N5Y8VDVqj05i"
      }
    },
    {
      "cell_type": "code",
      "source": [
        "# Select single, couple, multiple adults and family\n",
        "\n",
        "single   = not_canceled[(not_canceled['adults']==1) & (not_canceled['children']==0) & (not_canceled['babies']==0)]\n",
        "couple   = not_canceled[(not_canceled['adults']==2) & (not_canceled['children']==0) & (not_canceled['babies']==0)]\n",
        "family   = not_canceled[not_canceled['adults'] + not_canceled['children'] + not_canceled['babies'] > 2]"
      ],
      "metadata": {
        "id": "Bc0-2Cjgp-Z0"
      },
      "execution_count": null,
      "outputs": []
    },
    {
      "cell_type": "code",
      "source": [
        "#  visualization code\n",
        "\n",
        "reindex = ['January', 'February','March','April','May','June','July','August','September','October','November','December']\n",
        "\n",
        "fig, ax = plt.subplots(figsize=(12, 8))\n",
        "\n",
        "for type in ['single', 'couple', 'family']:\n",
        "  d1 = eval(type).groupby(['arrival_date_month']).size().reset_index().rename(columns = {0:'arrival_num'})\n",
        "  d1['arrival_date_month'] = pd.Categorical(d1['arrival_date_month'],categories=reindex,ordered=True)\n",
        "  sns.lineplot(data=d1, x= 'arrival_date_month', y='arrival_num', label=type, ax=ax)\n",
        "\n",
        "plt.grid()\n",
        "plt.show()"
      ],
      "metadata": {
        "id": "nslBFvmyjYSF"
      },
      "execution_count": null,
      "outputs": []
    },
    {
      "cell_type": "markdown",
      "source": [
        "##### 1. Why did you pick the specific chart?"
      ],
      "metadata": {
        "id": "qkdwWip04ndB"
      }
    },
    {
      "cell_type": "markdown",
      "source": [
        "This specific chart is plotted because it allows us to compare the number of bookings based on different customer types: single, couple, and family. By using a line plot, we can observe the trend of arrival numbers for each customer type across different months of the year."
      ],
      "metadata": {
        "id": "iEbYjRm_4kzB"
      }
    },
    {
      "cell_type": "markdown",
      "source": [
        "##### 2. What is/are the insight(s) found from the chart?"
      ],
      "metadata": {
        "id": "dE7BZ-T040f9"
      }
    },
    {
      "cell_type": "markdown",
      "source": [
        " The majority of bookings are attributed to couples, although it is important to note that the data does not explicitly indicate their relationship status. The graph clearly depicts a significant increase in the number of arrivals for couples and families during the months of July and August. This information suggests the need for strategic planning to cater to these specific customer segments during that time period."
      ],
      "metadata": {
        "id": "ELAEBDmz4_bC"
      }
    },
    {
      "cell_type": "markdown",
      "source": [
        "##### 3.Will the gained insights help creating a positive business impact?\n",
        "Are there any insights that lead to negative growth? Justify with specific reason."
      ],
      "metadata": {
        "id": "dGpbohYQ5jTm"
      }
    },
    {
      "cell_type": "markdown",
      "source": [
        "**Marketing and Promotion:** By understanding the booking preferences of different customer types, businesses can tailor their marketing and promotional strategies accordingly. For example, they can create targeted campaigns or offers to attract couples and families during the peak months of July and August when the demand is higher.\n",
        "\n",
        "**Resource Planning:** Knowing the seasonal surges in arrival numbers allows businesses to plan their resources effectively. They can allocate staff, inventory, and facilities to accommodate the increased demand during the busy periods, ensuring a positive customer experience."
      ],
      "metadata": {
        "id": "diQ9EfD95Eyv"
      }
    }
  ]
}